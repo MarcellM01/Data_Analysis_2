{
 "cells": [
  {
   "cell_type": "markdown",
   "id": "4a925e97",
   "metadata": {},
   "source": [
    "\n",
    "# Hotel Rating Analysis in Munich\n",
    "We perform an analysis on hotel ratings in Munich using statistical models.\n",
    "## Importing Libraries\n",
    "We begin by importing the necessary Python libraries."
   ]
  },
  {
   "cell_type": "code",
   "execution_count": 1,
   "id": "6b055967",
   "metadata": {
    "tags": []
   },
   "outputs": [],
   "source": [
    "import warnings\n",
    "\n",
    "import pandas as pd\n",
    "import numpy as np\n",
    "import statsmodels.api as sm\n",
    "from plotnine import *\n",
    "import statsmodels.formula.api as smf\n",
    "from statsmodels.discrete.discrete_model import Logit, Probit\n",
    "from statsmodels.stats.outliers_influence import variance_inflation_factor\n",
    "from plotnine import *\n",
    "from stargazer.stargazer import Stargazer\n",
    "from mizani.formatters import percent_format\n",
    "from patsy import dmatrices\n",
    "\n",
    "warnings.filterwarnings(\"ignore\")\n"
   ]
  },
  {
   "cell_type": "markdown",
   "id": "21c41344",
   "metadata": {},
   "source": [
    "\n",
    "## Loading Data\n",
    "Here, we load the data from the provided CSV files for hotel prices and features."
   ]
  },
  {
   "cell_type": "code",
   "execution_count": 2,
   "id": "ee0357e0",
   "metadata": {
    "tags": []
   },
   "outputs": [],
   "source": [
    "# Load the datasets\n",
    "prices_df = pd.read_csv('hotels-europe_price.csv')\n",
    "features_df = pd.read_csv('hotels-europe_features.csv')\n"
   ]
  },
  {
   "cell_type": "markdown",
   "id": "6c3de3a6",
   "metadata": {},
   "source": [
    "\n",
    "## Part 1: Data Preparation\n",
    "We prepare our data by filtering for hotels in Munich, merging datasets, and cleaning the data."
   ]
  },
  {
   "cell_type": "code",
   "execution_count": 3,
   "id": "994615a8",
   "metadata": {
    "tags": []
   },
   "outputs": [],
   "source": [
    "\n",
    "# Filtering the features dataset for hotels in Munich\n",
    "munich_features_df = features_df[features_df['city'] == 'Munich']\n",
    "\n",
    "# Merging the Munich features dataset with the prices dataset\n",
    "munich_combined_df = pd.merge(munich_features_df, prices_df, on='hotel_id')\n",
    "\n",
    "# Creating the binary variable 'highly_rated'\n",
    "munich_combined_df['highly_rated'] = (munich_combined_df['rating'] >= 4).astype(int)\n"
   ]
  },
  {
   "cell_type": "code",
   "execution_count": 4,
   "id": "d13e1336-9049-4f85-adf4-45e994c89ee5",
   "metadata": {
    "tags": []
   },
   "outputs": [
    {
     "name": "stdout",
     "output_type": "stream",
     "text": [
      "Number of highly rated: 1807\n"
     ]
    }
   ],
   "source": [
    "# Check number of highly rated just out of curiosity\n",
    "print('Number of highly rated:', (munich_combined_df['highly_rated'] > 0).sum())"
   ]
  },
  {
   "cell_type": "code",
   "execution_count": 5,
   "id": "11d4bb8e-cba3-450e-bbb0-f7e7a935ddd4",
   "metadata": {
    "tags": []
   },
   "outputs": [
    {
     "name": "stdout",
     "output_type": "stream",
     "text": [
      "Number of null values: hotel_id              0\n",
      "city                  0\n",
      "distance              0\n",
      "stars                 0\n",
      "rating                0\n",
      "country               0\n",
      "city_actual           0\n",
      "rating_reviewcount    0\n",
      "center1label          0\n",
      "center2label          0\n",
      "neighbourhood         0\n",
      "ratingta              0\n",
      "ratingta_count        0\n",
      "distance_alter        0\n",
      "accommodation_type    0\n",
      "price                 0\n",
      "offer                 0\n",
      "offer_cat             0\n",
      "year                  0\n",
      "month                 0\n",
      "weekend               0\n",
      "holiday               0\n",
      "nnights               0\n",
      "scarce_room           0\n",
      "highly_rated          0\n",
      "dtype: int64\n"
     ]
    }
   ],
   "source": [
    "# Cleaning the data by removing rows with missing or infinite values\n",
    "munich_combined_cleaned = munich_combined_df.replace(np.nan).dropna()\n",
    "\n",
    "# Check if there are any Null values left\n",
    "print('Number of null values:', munich_combined_cleaned.isnull().sum())"
   ]
  },
  {
   "cell_type": "code",
   "execution_count": 6,
   "id": "c4ddbe99-dc06-4c63-b006-15ca8cdd72ed",
   "metadata": {
    "tags": []
   },
   "outputs": [
    {
     "data": {
      "text/html": [
       "<div>\n",
       "<style scoped>\n",
       "    .dataframe tbody tr th:only-of-type {\n",
       "        vertical-align: middle;\n",
       "    }\n",
       "\n",
       "    .dataframe tbody tr th {\n",
       "        vertical-align: top;\n",
       "    }\n",
       "\n",
       "    .dataframe thead th {\n",
       "        text-align: right;\n",
       "    }\n",
       "</style>\n",
       "<table border=\"1\" class=\"dataframe\">\n",
       "  <thead>\n",
       "    <tr style=\"text-align: right;\">\n",
       "      <th></th>\n",
       "      <th>hotel_id</th>\n",
       "      <th>city</th>\n",
       "      <th>distance</th>\n",
       "      <th>stars</th>\n",
       "      <th>rating</th>\n",
       "      <th>country</th>\n",
       "      <th>city_actual</th>\n",
       "      <th>rating_reviewcount</th>\n",
       "      <th>center1label</th>\n",
       "      <th>center2label</th>\n",
       "      <th>...</th>\n",
       "      <th>price</th>\n",
       "      <th>offer</th>\n",
       "      <th>offer_cat</th>\n",
       "      <th>year</th>\n",
       "      <th>month</th>\n",
       "      <th>weekend</th>\n",
       "      <th>holiday</th>\n",
       "      <th>nnights</th>\n",
       "      <th>scarce_room</th>\n",
       "      <th>highly_rated</th>\n",
       "    </tr>\n",
       "  </thead>\n",
       "  <tbody>\n",
       "    <tr>\n",
       "      <th>0</th>\n",
       "      <td>11346</td>\n",
       "      <td>Munich</td>\n",
       "      <td>0.6</td>\n",
       "      <td>3.0</td>\n",
       "      <td>3.9</td>\n",
       "      <td>Germany</td>\n",
       "      <td>Munich</td>\n",
       "      <td>176.0</td>\n",
       "      <td>City centre</td>\n",
       "      <td>Munich East Station</td>\n",
       "      <td>...</td>\n",
       "      <td>110</td>\n",
       "      <td>0</td>\n",
       "      <td>0% no offer</td>\n",
       "      <td>2017</td>\n",
       "      <td>11</td>\n",
       "      <td>1</td>\n",
       "      <td>0</td>\n",
       "      <td>1</td>\n",
       "      <td>1</td>\n",
       "      <td>0</td>\n",
       "    </tr>\n",
       "    <tr>\n",
       "      <th>1</th>\n",
       "      <td>11346</td>\n",
       "      <td>Munich</td>\n",
       "      <td>0.6</td>\n",
       "      <td>3.0</td>\n",
       "      <td>3.9</td>\n",
       "      <td>Germany</td>\n",
       "      <td>Munich</td>\n",
       "      <td>176.0</td>\n",
       "      <td>City centre</td>\n",
       "      <td>Munich East Station</td>\n",
       "      <td>...</td>\n",
       "      <td>160</td>\n",
       "      <td>0</td>\n",
       "      <td>0% no offer</td>\n",
       "      <td>2018</td>\n",
       "      <td>1</td>\n",
       "      <td>1</td>\n",
       "      <td>0</td>\n",
       "      <td>1</td>\n",
       "      <td>0</td>\n",
       "      <td>0</td>\n",
       "    </tr>\n",
       "    <tr>\n",
       "      <th>2</th>\n",
       "      <td>11346</td>\n",
       "      <td>Munich</td>\n",
       "      <td>0.6</td>\n",
       "      <td>3.0</td>\n",
       "      <td>3.9</td>\n",
       "      <td>Germany</td>\n",
       "      <td>Munich</td>\n",
       "      <td>176.0</td>\n",
       "      <td>City centre</td>\n",
       "      <td>Munich East Station</td>\n",
       "      <td>...</td>\n",
       "      <td>113</td>\n",
       "      <td>0</td>\n",
       "      <td>0% no offer</td>\n",
       "      <td>2018</td>\n",
       "      <td>3</td>\n",
       "      <td>1</td>\n",
       "      <td>0</td>\n",
       "      <td>1</td>\n",
       "      <td>0</td>\n",
       "      <td>0</td>\n",
       "    </tr>\n",
       "    <tr>\n",
       "      <th>3</th>\n",
       "      <td>11346</td>\n",
       "      <td>Munich</td>\n",
       "      <td>0.6</td>\n",
       "      <td>3.0</td>\n",
       "      <td>3.9</td>\n",
       "      <td>Germany</td>\n",
       "      <td>Munich</td>\n",
       "      <td>176.0</td>\n",
       "      <td>City centre</td>\n",
       "      <td>Munich East Station</td>\n",
       "      <td>...</td>\n",
       "      <td>113</td>\n",
       "      <td>0</td>\n",
       "      <td>0% no offer</td>\n",
       "      <td>2018</td>\n",
       "      <td>4</td>\n",
       "      <td>1</td>\n",
       "      <td>0</td>\n",
       "      <td>1</td>\n",
       "      <td>0</td>\n",
       "      <td>0</td>\n",
       "    </tr>\n",
       "    <tr>\n",
       "      <th>4</th>\n",
       "      <td>11346</td>\n",
       "      <td>Munich</td>\n",
       "      <td>0.6</td>\n",
       "      <td>3.0</td>\n",
       "      <td>3.9</td>\n",
       "      <td>Germany</td>\n",
       "      <td>Munich</td>\n",
       "      <td>176.0</td>\n",
       "      <td>City centre</td>\n",
       "      <td>Munich East Station</td>\n",
       "      <td>...</td>\n",
       "      <td>580</td>\n",
       "      <td>0</td>\n",
       "      <td>0% no offer</td>\n",
       "      <td>2017</td>\n",
       "      <td>12</td>\n",
       "      <td>0</td>\n",
       "      <td>1</td>\n",
       "      <td>4</td>\n",
       "      <td>1</td>\n",
       "      <td>0</td>\n",
       "    </tr>\n",
       "    <tr>\n",
       "      <th>...</th>\n",
       "      <td>...</td>\n",
       "      <td>...</td>\n",
       "      <td>...</td>\n",
       "      <td>...</td>\n",
       "      <td>...</td>\n",
       "      <td>...</td>\n",
       "      <td>...</td>\n",
       "      <td>...</td>\n",
       "      <td>...</td>\n",
       "      <td>...</td>\n",
       "      <td>...</td>\n",
       "      <td>...</td>\n",
       "      <td>...</td>\n",
       "      <td>...</td>\n",
       "      <td>...</td>\n",
       "      <td>...</td>\n",
       "      <td>...</td>\n",
       "      <td>...</td>\n",
       "      <td>...</td>\n",
       "      <td>...</td>\n",
       "      <td>...</td>\n",
       "    </tr>\n",
       "    <tr>\n",
       "      <th>3015</th>\n",
       "      <td>11705</td>\n",
       "      <td>Munich</td>\n",
       "      <td>9.6</td>\n",
       "      <td>4.0</td>\n",
       "      <td>4.5</td>\n",
       "      <td>Germany</td>\n",
       "      <td>Vaterstetten</td>\n",
       "      <td>2.0</td>\n",
       "      <td>City centre</td>\n",
       "      <td>Munich East Station</td>\n",
       "      <td>...</td>\n",
       "      <td>104</td>\n",
       "      <td>0</td>\n",
       "      <td>0% no offer</td>\n",
       "      <td>2018</td>\n",
       "      <td>2</td>\n",
       "      <td>1</td>\n",
       "      <td>0</td>\n",
       "      <td>1</td>\n",
       "      <td>0</td>\n",
       "      <td>1</td>\n",
       "    </tr>\n",
       "    <tr>\n",
       "      <th>3016</th>\n",
       "      <td>11705</td>\n",
       "      <td>Munich</td>\n",
       "      <td>9.6</td>\n",
       "      <td>4.0</td>\n",
       "      <td>4.5</td>\n",
       "      <td>Germany</td>\n",
       "      <td>Vaterstetten</td>\n",
       "      <td>2.0</td>\n",
       "      <td>City centre</td>\n",
       "      <td>Munich East Station</td>\n",
       "      <td>...</td>\n",
       "      <td>92</td>\n",
       "      <td>0</td>\n",
       "      <td>0% no offer</td>\n",
       "      <td>2017</td>\n",
       "      <td>11</td>\n",
       "      <td>1</td>\n",
       "      <td>0</td>\n",
       "      <td>1</td>\n",
       "      <td>1</td>\n",
       "      <td>1</td>\n",
       "    </tr>\n",
       "    <tr>\n",
       "      <th>3017</th>\n",
       "      <td>11705</td>\n",
       "      <td>Munich</td>\n",
       "      <td>9.6</td>\n",
       "      <td>4.0</td>\n",
       "      <td>4.5</td>\n",
       "      <td>Germany</td>\n",
       "      <td>Vaterstetten</td>\n",
       "      <td>2.0</td>\n",
       "      <td>City centre</td>\n",
       "      <td>Munich East Station</td>\n",
       "      <td>...</td>\n",
       "      <td>104</td>\n",
       "      <td>0</td>\n",
       "      <td>0% no offer</td>\n",
       "      <td>2017</td>\n",
       "      <td>11</td>\n",
       "      <td>0</td>\n",
       "      <td>0</td>\n",
       "      <td>1</td>\n",
       "      <td>0</td>\n",
       "      <td>1</td>\n",
       "    </tr>\n",
       "    <tr>\n",
       "      <th>3018</th>\n",
       "      <td>11705</td>\n",
       "      <td>Munich</td>\n",
       "      <td>9.6</td>\n",
       "      <td>4.0</td>\n",
       "      <td>4.5</td>\n",
       "      <td>Germany</td>\n",
       "      <td>Vaterstetten</td>\n",
       "      <td>2.0</td>\n",
       "      <td>City centre</td>\n",
       "      <td>Munich East Station</td>\n",
       "      <td>...</td>\n",
       "      <td>92</td>\n",
       "      <td>0</td>\n",
       "      <td>0% no offer</td>\n",
       "      <td>2018</td>\n",
       "      <td>4</td>\n",
       "      <td>1</td>\n",
       "      <td>0</td>\n",
       "      <td>1</td>\n",
       "      <td>1</td>\n",
       "      <td>1</td>\n",
       "    </tr>\n",
       "    <tr>\n",
       "      <th>3019</th>\n",
       "      <td>11705</td>\n",
       "      <td>Munich</td>\n",
       "      <td>9.6</td>\n",
       "      <td>4.0</td>\n",
       "      <td>4.5</td>\n",
       "      <td>Germany</td>\n",
       "      <td>Vaterstetten</td>\n",
       "      <td>2.0</td>\n",
       "      <td>City centre</td>\n",
       "      <td>Munich East Station</td>\n",
       "      <td>...</td>\n",
       "      <td>92</td>\n",
       "      <td>0</td>\n",
       "      <td>0% no offer</td>\n",
       "      <td>2018</td>\n",
       "      <td>3</td>\n",
       "      <td>1</td>\n",
       "      <td>0</td>\n",
       "      <td>1</td>\n",
       "      <td>1</td>\n",
       "      <td>1</td>\n",
       "    </tr>\n",
       "  </tbody>\n",
       "</table>\n",
       "<p>3020 rows × 25 columns</p>\n",
       "</div>"
      ],
      "text/plain": [
       "      hotel_id    city  distance  stars  rating  country   city_actual  \\\n",
       "0        11346  Munich       0.6    3.0     3.9  Germany        Munich   \n",
       "1        11346  Munich       0.6    3.0     3.9  Germany        Munich   \n",
       "2        11346  Munich       0.6    3.0     3.9  Germany        Munich   \n",
       "3        11346  Munich       0.6    3.0     3.9  Germany        Munich   \n",
       "4        11346  Munich       0.6    3.0     3.9  Germany        Munich   \n",
       "...        ...     ...       ...    ...     ...      ...           ...   \n",
       "3015     11705  Munich       9.6    4.0     4.5  Germany  Vaterstetten   \n",
       "3016     11705  Munich       9.6    4.0     4.5  Germany  Vaterstetten   \n",
       "3017     11705  Munich       9.6    4.0     4.5  Germany  Vaterstetten   \n",
       "3018     11705  Munich       9.6    4.0     4.5  Germany  Vaterstetten   \n",
       "3019     11705  Munich       9.6    4.0     4.5  Germany  Vaterstetten   \n",
       "\n",
       "      rating_reviewcount center1label         center2label  ... price  offer  \\\n",
       "0                  176.0  City centre  Munich East Station  ...   110      0   \n",
       "1                  176.0  City centre  Munich East Station  ...   160      0   \n",
       "2                  176.0  City centre  Munich East Station  ...   113      0   \n",
       "3                  176.0  City centre  Munich East Station  ...   113      0   \n",
       "4                  176.0  City centre  Munich East Station  ...   580      0   \n",
       "...                  ...          ...                  ...  ...   ...    ...   \n",
       "3015                 2.0  City centre  Munich East Station  ...   104      0   \n",
       "3016                 2.0  City centre  Munich East Station  ...    92      0   \n",
       "3017                 2.0  City centre  Munich East Station  ...   104      0   \n",
       "3018                 2.0  City centre  Munich East Station  ...    92      0   \n",
       "3019                 2.0  City centre  Munich East Station  ...    92      0   \n",
       "\n",
       "        offer_cat  year month  weekend  holiday nnights  scarce_room  \\\n",
       "0     0% no offer  2017    11        1        0       1            1   \n",
       "1     0% no offer  2018     1        1        0       1            0   \n",
       "2     0% no offer  2018     3        1        0       1            0   \n",
       "3     0% no offer  2018     4        1        0       1            0   \n",
       "4     0% no offer  2017    12        0        1       4            1   \n",
       "...           ...   ...   ...      ...      ...     ...          ...   \n",
       "3015  0% no offer  2018     2        1        0       1            0   \n",
       "3016  0% no offer  2017    11        1        0       1            1   \n",
       "3017  0% no offer  2017    11        0        0       1            0   \n",
       "3018  0% no offer  2018     4        1        0       1            1   \n",
       "3019  0% no offer  2018     3        1        0       1            1   \n",
       "\n",
       "      highly_rated  \n",
       "0                0  \n",
       "1                0  \n",
       "2                0  \n",
       "3                0  \n",
       "4                0  \n",
       "...            ...  \n",
       "3015             1  \n",
       "3016             1  \n",
       "3017             1  \n",
       "3018             1  \n",
       "3019             1  \n",
       "\n",
       "[3020 rows x 25 columns]"
      ]
     },
     "execution_count": 6,
     "metadata": {},
     "output_type": "execute_result"
    }
   ],
   "source": [
    "munich_combined_cleaned"
   ]
  },
  {
   "cell_type": "markdown",
   "id": "b948a757-939d-415d-946a-c9385b1b38bd",
   "metadata": {
    "tags": []
   },
   "source": [
    "## Part 2: Analysis of our chosen dependants\n",
    "Further examination of our chosen variables: price, distance, rating and stars"
   ]
  },
  {
   "cell_type": "markdown",
   "id": "3d1a0c96-9242-41ac-8d7d-fe93aaff2bff",
   "metadata": {},
   "source": [
    "### Distribution Analysis"
   ]
  },
  {
   "cell_type": "code",
   "execution_count": 7,
   "id": "0e3b422b-964e-4a49-ae36-117c039f7195",
   "metadata": {
    "tags": []
   },
   "outputs": [
    {
     "data": {
      "image/png": "[encoded data removed]",
      "text/plain": [
       "<Figure size 640x480 with 1 Axes>"
      ]
     },
     "metadata": {
      "image/png": {
       "height": 480,
       "width": 640
      }
     },
     "output_type": "display_data"
    },
    {
     "data": {
      "text/plain": [
       "<Figure Size: (640 x 480)>"
      ]
     },
     "execution_count": 7,
     "metadata": {},
     "output_type": "execute_result"
    }
   ],
   "source": [
    "# Price distribution\n",
    "(ggplot(munich_combined_cleaned)\n",
    " + aes('price')\n",
    " + geom_bar()\n",
    " + theme_bw()\n",
    ")"
   ]
  },
  {
   "cell_type": "code",
   "execution_count": 8,
   "id": "8bff3e39-d768-4aa4-8469-ca91e389de95",
   "metadata": {
    "tags": []
   },
   "outputs": [
    {
     "data": {
      "image/png": "[encoded data removed]",
      "text/plain": [
       "<Figure size 640x480 with 1 Axes>"
      ]
     },
     "metadata": {
      "image/png": {
       "height": 480,
       "width": 640
      }
     },
     "output_type": "display_data"
    },
    {
     "data": {
      "text/plain": [
       "<Figure Size: (640 x 480)>"
      ]
     },
     "execution_count": 8,
     "metadata": {},
     "output_type": "execute_result"
    }
   ],
   "source": [
    "# Distance distribution\n",
    "(ggplot(munich_combined_cleaned)\n",
    " + aes('distance')\n",
    " + geom_bar()\n",
    " + theme_bw()\n",
    ")"
   ]
  },
  {
   "cell_type": "code",
   "execution_count": 9,
   "id": "77a1ca8b-59d0-409f-9fea-4bea82915936",
   "metadata": {
    "tags": []
   },
   "outputs": [
    {
     "data": {
      "image/png": "[encoded data removed]",
      "text/plain": [
       "<Figure size 640x480 with 1 Axes>"
      ]
     },
     "metadata": {
      "image/png": {
       "height": 480,
       "width": 640
      }
     },
     "output_type": "display_data"
    },
    {
     "data": {
      "text/plain": [
       "<Figure Size: (640 x 480)>"
      ]
     },
     "execution_count": 9,
     "metadata": {},
     "output_type": "execute_result"
    }
   ],
   "source": [
    "# Distance distribution\n",
    "(ggplot(munich_combined_cleaned)\n",
    " + aes('rating')\n",
    " + geom_bar()\n",
    " + theme_bw()\n",
    ")"
   ]
  },
  {
   "cell_type": "code",
   "execution_count": 10,
   "id": "caddf8e9-bcd2-4a5d-8101-ab7b66a6066d",
   "metadata": {
    "tags": []
   },
   "outputs": [
    {
     "data": {
      "image/png": "[encoded data removed]",
      "text/plain": [
       "<Figure size 640x480 with 1 Axes>"
      ]
     },
     "metadata": {
      "image/png": {
       "height": 480,
       "width": 640
      }
     },
     "output_type": "display_data"
    },
    {
     "data": {
      "text/plain": [
       "<Figure Size: (640 x 480)>"
      ]
     },
     "execution_count": 10,
     "metadata": {},
     "output_type": "execute_result"
    }
   ],
   "source": [
    "# Stars Distribution\n",
    "(ggplot(munich_combined_cleaned)\n",
    " + aes('stars')\n",
    " + geom_bar()\n",
    " + theme_bw()\n",
    ")"
   ]
  },
  {
   "cell_type": "markdown",
   "id": "9933f9ea-a899-4fa3-947d-e5f399f09ffd",
   "metadata": {},
   "source": [
    "### Summary of statistical measures"
   ]
  },
  {
   "cell_type": "code",
   "execution_count": 11,
   "id": "a6dab7dc-9271-4416-8b82-55be8491c301",
   "metadata": {
    "tags": []
   },
   "outputs": [
    {
     "data": {
      "text/html": [
       "<div>\n",
       "<style scoped>\n",
       "    .dataframe tbody tr th:only-of-type {\n",
       "        vertical-align: middle;\n",
       "    }\n",
       "\n",
       "    .dataframe tbody tr th {\n",
       "        vertical-align: top;\n",
       "    }\n",
       "\n",
       "    .dataframe thead th {\n",
       "        text-align: right;\n",
       "    }\n",
       "</style>\n",
       "<table border=\"1\" class=\"dataframe\">\n",
       "  <thead>\n",
       "    <tr style=\"text-align: right;\">\n",
       "      <th></th>\n",
       "      <th>price</th>\n",
       "      <th>stars</th>\n",
       "      <th>distance</th>\n",
       "      <th>rating</th>\n",
       "    </tr>\n",
       "  </thead>\n",
       "  <tbody>\n",
       "    <tr>\n",
       "      <th>count</th>\n",
       "      <td>3020.000000</td>\n",
       "      <td>3020.000000</td>\n",
       "      <td>3020.000000</td>\n",
       "      <td>3020.000000</td>\n",
       "    </tr>\n",
       "    <tr>\n",
       "      <th>mean</th>\n",
       "      <td>169.243046</td>\n",
       "      <td>3.398179</td>\n",
       "      <td>3.696623</td>\n",
       "      <td>3.969768</td>\n",
       "    </tr>\n",
       "    <tr>\n",
       "      <th>std</th>\n",
       "      <td>160.350739</td>\n",
       "      <td>0.657200</td>\n",
       "      <td>4.836295</td>\n",
       "      <td>0.440426</td>\n",
       "    </tr>\n",
       "    <tr>\n",
       "      <th>min</th>\n",
       "      <td>33.000000</td>\n",
       "      <td>1.000000</td>\n",
       "      <td>0.000000</td>\n",
       "      <td>1.000000</td>\n",
       "    </tr>\n",
       "    <tr>\n",
       "      <th>25%</th>\n",
       "      <td>92.000000</td>\n",
       "      <td>3.000000</td>\n",
       "      <td>0.500000</td>\n",
       "      <td>3.700000</td>\n",
       "    </tr>\n",
       "    <tr>\n",
       "      <th>50%</th>\n",
       "      <td>120.000000</td>\n",
       "      <td>3.500000</td>\n",
       "      <td>1.900000</td>\n",
       "      <td>4.000000</td>\n",
       "    </tr>\n",
       "    <tr>\n",
       "      <th>75%</th>\n",
       "      <td>173.000000</td>\n",
       "      <td>4.000000</td>\n",
       "      <td>4.800000</td>\n",
       "      <td>4.300000</td>\n",
       "    </tr>\n",
       "    <tr>\n",
       "      <th>max</th>\n",
       "      <td>2628.000000</td>\n",
       "      <td>5.000000</td>\n",
       "      <td>21.000000</td>\n",
       "      <td>5.000000</td>\n",
       "    </tr>\n",
       "  </tbody>\n",
       "</table>\n",
       "</div>"
      ],
      "text/plain": [
       "             price        stars     distance       rating\n",
       "count  3020.000000  3020.000000  3020.000000  3020.000000\n",
       "mean    169.243046     3.398179     3.696623     3.969768\n",
       "std     160.350739     0.657200     4.836295     0.440426\n",
       "min      33.000000     1.000000     0.000000     1.000000\n",
       "25%      92.000000     3.000000     0.500000     3.700000\n",
       "50%     120.000000     3.500000     1.900000     4.000000\n",
       "75%     173.000000     4.000000     4.800000     4.300000\n",
       "max    2628.000000     5.000000    21.000000     5.000000"
      ]
     },
     "execution_count": 11,
     "metadata": {},
     "output_type": "execute_result"
    }
   ],
   "source": [
    "# This here shows that both the price and the distance have extreme values I consider to be removable,\n",
    "# for an unbiased analysis these shal be dropped.\n",
    "munich_combined_cleaned.loc[:, [\"price\", \"stars\", \"distance\", \"rating\"]].describe()"
   ]
  },
  {
   "cell_type": "markdown",
   "id": "681db19e-dfaf-41e5-9cfd-5050090d0090",
   "metadata": {
    "tags": []
   },
   "source": [
    "### Extreme values"
   ]
  },
  {
   "cell_type": "code",
   "execution_count": 12,
   "id": "83cedc10-4b3f-400d-9bb5-e9aac31a92b1",
   "metadata": {
    "tags": []
   },
   "outputs": [],
   "source": [
    "# Dealing with extreme values, create a function to remove them\n",
    "def remove_price_outliers(df, column):\n",
    "    return df[((df[column] >= df[column].quantile(0.25) - 1.5 * \n",
    "                (df[column].quantile(0.75) - df[column].quantile(0.25))) &\n",
    "               (df[column] <= df[column].quantile(0.75) + 1.5 * \n",
    "                (df[column].quantile(0.75) - df[column].quantile(0.25))))]\n"
   ]
  },
  {
   "cell_type": "code",
   "execution_count": 13,
   "id": "0f3e3956-606c-4f90-a2c7-cc9e0a668643",
   "metadata": {
    "tags": []
   },
   "outputs": [
    {
     "data": {
      "text/plain": [
       "count    2660.000000\n",
       "mean      125.215038\n",
       "std        49.263149\n",
       "min        33.000000\n",
       "25%        90.000000\n",
       "50%       113.000000\n",
       "75%       145.000000\n",
       "max       294.000000\n",
       "Name: price, dtype: float64"
      ]
     },
     "execution_count": 13,
     "metadata": {},
     "output_type": "execute_result"
    }
   ],
   "source": [
    "# Remove extreme values from 'price'\n",
    "munich_combined_cleaned = remove_price_outliers(munich_combined_cleaned, 'price')\n",
    "\n",
    "munich_combined_cleaned['price'].describe()"
   ]
  },
  {
   "cell_type": "code",
   "execution_count": 14,
   "id": "d899f64a-3e4c-4cdd-abf2-6d888cef6c62",
   "metadata": {
    "tags": []
   },
   "outputs": [
    {
     "data": {
      "text/plain": [
       "count    2450.000000\n",
       "mean        2.619306\n",
       "std         2.703933\n",
       "min         0.000000\n",
       "25%         0.300000\n",
       "50%         1.600000\n",
       "75%         3.800000\n",
       "max        11.000000\n",
       "Name: distance, dtype: float64"
      ]
     },
     "execution_count": 14,
     "metadata": {},
     "output_type": "execute_result"
    }
   ],
   "source": [
    "# Remove extreme values from 'distance'\n",
    "munich_combined_cleaned = remove_price_outliers(munich_combined_cleaned, 'distance')\n",
    "\n",
    "munich_combined_cleaned['distance'].describe()"
   ]
  },
  {
   "cell_type": "markdown",
   "id": "fb705e31",
   "metadata": {},
   "source": [
    "\n",
    "## Part 3: Model Estimation\n",
    "In this section, we estimate the Linear Probability Model (LPM), Logit Model, and Probit Model."
   ]
  },
  {
   "cell_type": "markdown",
   "id": "75c24c83-dfb0-45da-9827-931f7fc2fa93",
   "metadata": {},
   "source": [
    "### Linear Probability"
   ]
  },
  {
   "cell_type": "code",
   "execution_count": 15,
   "id": "39e454f8-f412-4a40-8629-01f998a391aa",
   "metadata": {
    "tags": []
   },
   "outputs": [
    {
     "name": "stdout",
     "output_type": "stream",
     "text": [
      "                            OLS Regression Results                            \n",
      "==============================================================================\n",
      "Dep. Variable:           highly_rated   R-squared:                       0.140\n",
      "Model:                            OLS   Adj. R-squared:                  0.138\n",
      "Method:                 Least Squares   F-statistic:                     99.23\n",
      "Date:                Sun, 03 Dec 2023   Prob (F-statistic):           2.31e-78\n",
      "Time:                        14:33:49   Log-Likelihood:                -1560.8\n",
      "No. Observations:                2450   AIC:                             3132.\n",
      "Df Residuals:                    2445   BIC:                             3161.\n",
      "Df Model:                           4                                         \n",
      "Covariance Type:            nonrobust                                         \n",
      "======================================================================================\n",
      "                         coef    std err          t      P>|t|      [0.025      0.975]\n",
      "--------------------------------------------------------------------------------------\n",
      "Intercept             -0.3851      0.052     -7.445      0.000      -0.487      -0.284\n",
      "distance               0.0293      0.004      7.775      0.000       0.022       0.037\n",
      "stars                  0.2151      0.016     13.206      0.000       0.183       0.247\n",
      "price                  0.0014      0.000      7.033      0.000       0.001       0.002\n",
      "rating_reviewcount -6.866e-05   5.99e-05     -1.146      0.252      -0.000    4.88e-05\n",
      "==============================================================================\n",
      "Omnibus:                    26729.333   Durbin-Watson:                   0.255\n",
      "Prob(Omnibus):                  0.000   Jarque-Bera (JB):              232.114\n",
      "Skew:                          -0.283   Prob(JB):                     3.95e-51\n",
      "Kurtosis:                       1.602   Cond. No.                     1.62e+03\n",
      "==============================================================================\n",
      "\n",
      "Notes:\n",
      "[1] Standard Errors assume that the covariance matrix of the errors is correctly specified.\n",
      "[2] The condition number is large, 1.62e+03. This might indicate that there are\n",
      "strong multicollinearity or other numerical problems.\n"
     ]
    }
   ],
   "source": [
    "# Estimating Linear Probability Model\n",
    "lpm_model = smf.ols('highly_rated ~ distance + stars + price + rating_reviewcount', data=munich_combined_cleaned).fit(covtype=\"HC1\")\n",
    "print(lpm_model.summary())\n"
   ]
  },
  {
   "cell_type": "code",
   "execution_count": 16,
   "id": "c10542d1-66ad-49de-8e67-00e80d74a9d9",
   "metadata": {
    "tags": []
   },
   "outputs": [
    {
     "data": {
      "text/html": [
       "<table style=\"text-align:center\"><tr><td colspan=\"2\" style=\"border-bottom: 1px solid black\"></td></tr>\n",
       "<tr><td style=\"text-align:left\"></td><td colspan=\"1\"><em>Dependent variable: highly_rated</em></td></tr><tr><td style=\"text-align:left\"></td><tr><td style=\"text-align:left\"></td><td>(1)</td></tr>\n",
       "<tr><td colspan=\"2\" style=\"border-bottom: 1px solid black\"></td></tr>\n",
       "\n",
       "<tr><td style=\"text-align:left\">Constant</td><td>-0.385<sup>***</sup></td></tr>\n",
       "<tr><td style=\"text-align:left\"></td><td>(0.052)</td></tr>\n",
       "<tr><td style=\"text-align:left\">distance</td><td>0.029<sup>***</sup></td></tr>\n",
       "<tr><td style=\"text-align:left\"></td><td>(0.004)</td></tr>\n",
       "<tr><td style=\"text-align:left\">price</td><td>0.001<sup>***</sup></td></tr>\n",
       "<tr><td style=\"text-align:left\"></td><td>(0.000)</td></tr>\n",
       "<tr><td style=\"text-align:left\">rating_reviewcount</td><td>-0.000<sup></sup></td></tr>\n",
       "<tr><td style=\"text-align:left\"></td><td>(0.000)</td></tr>\n",
       "<tr><td style=\"text-align:left\">stars</td><td>0.215<sup>***</sup></td></tr>\n",
       "<tr><td style=\"text-align:left\"></td><td>(0.016)</td></tr>\n",
       "\n",
       "<td colspan=\"2\" style=\"border-bottom: 1px solid black\"></td></tr>\n",
       "<tr><td style=\"text-align: left\">Observations</td><td>2450</td></tr><tr><td style=\"text-align: left\">R<sup>2</sup></td><td>0.140</td></tr><tr><td style=\"text-align: left\">Adjusted R<sup>2</sup></td><td>0.138</td></tr><tr><td style=\"text-align: left\">Residual Std. Error</td><td>0.458 (df=2445)</td></tr><tr><td style=\"text-align: left\">F Statistic</td><td>99.232<sup>***</sup> (df=4; 2445)</td></tr>\n",
       "<tr><td colspan=\"2\" style=\"border-bottom: 1px solid black\"></td></tr><tr><td style=\"text-align: left\">Note:</td><td colspan=\"1\" style=\"text-align: right\"><sup>*</sup>p&lt;0.1; <sup>**</sup>p&lt;0.05; <sup>***</sup>p&lt;0.01</td></tr></table>"
      ],
      "text/plain": [
       "<stargazer.stargazer.Stargazer at 0x296e2a323d0>"
      ]
     },
     "execution_count": 16,
     "metadata": {},
     "output_type": "execute_result"
    }
   ],
   "source": [
    "stargazer = Stargazer([lpm_model])\n",
    "stargazer.rename_covariates({\"Intercept\": \"Constant\"})\n",
    "stargazer"
   ]
  },
  {
   "cell_type": "code",
   "execution_count": 17,
   "id": "a2b8b40a-869e-4adf-aaa0-3a6c43640c76",
   "metadata": {
    "tags": []
   },
   "outputs": [
    {
     "data": {
      "text/plain": [
       "count    2450.000000\n",
       "mean        0.581633\n",
       "std         0.184392\n",
       "min        -0.022116\n",
       "25%         0.448274\n",
       "50%         0.571459\n",
       "75%         0.700772\n",
       "max         1.146050\n",
       "Name: lpm_model_pred, dtype: float64"
      ]
     },
     "execution_count": 17,
     "metadata": {},
     "output_type": "execute_result"
    }
   ],
   "source": [
    "munich_combined_cleaned[\"lpm_model_pred\"] = lpm_model.predict()\n",
    "\n",
    "munich_combined_cleaned[\"lpm_model_pred\"].describe()"
   ]
  },
  {
   "cell_type": "code",
   "execution_count": 18,
   "id": "a8d55efe-8e83-415e-bfba-73373ccf191c",
   "metadata": {
    "tags": []
   },
   "outputs": [
    {
     "data": {
      "image/png": "[encoded data removed]",
      "text/plain": [
       "<Figure size 640x480 with 1 Axes>"
      ]
     },
     "metadata": {
      "image/png": {
       "height": 480,
       "width": 640
      }
     },
     "output_type": "display_data"
    },
    {
     "name": "stdout",
     "output_type": "stream",
     "text": [
      "\n"
     ]
    }
   ],
   "source": [
    "# Assuming 'munich_combined_cleaned' is your dataset and 'lpm_model_pred' is your variable for predicted probabilities\n",
    "g3 = (\n",
    "    ggplot(munich_combined_cleaned, aes(x='lpm_model_pred')) \n",
    "    + geom_histogram(\n",
    "        aes(y='stat(count)/sum(stat(count))'),\n",
    "        binwidth=0.02,  # Adjust as necessary\n",
    "        color='white',\n",
    "        fill='blue',  # Change color as needed\n",
    "        closed='right'\n",
    "    )\n",
    "    + labs(\n",
    "        x='Predicted Probability of Being Highly Rated', \n",
    "        y='Percent', \n",
    "        title='Histogram of Predicted Probabilities LMP',\n",
    "        caption='This histogram shows the distribution of predicted probabilities for hotels being highly rated.'\n",
    "    )\n",
    "    + scale_y_continuous(labels=percent_format())\n",
    "    + scale_x_continuous(expand=[0.1, 0.01], limits=[0, 1])\n",
    "    + theme_bw()\n",
    ")\n",
    "print(g3)\n"
   ]
  },
  {
   "cell_type": "markdown",
   "id": "ec815220-ae14-42aa-870b-ca365b8684fd",
   "metadata": {},
   "source": [
    "#### Set up x and y for both logit and probit"
   ]
  },
  {
   "cell_type": "code",
   "execution_count": 19,
   "id": "02c12b92-2dfc-4430-8d68-c5f62fd04b54",
   "metadata": {},
   "outputs": [],
   "source": [
    "y, X = dmatrices(\n",
    "    \"highly_rated ~ distance + stars + price + rating_reviewcount\",\n",
    "    munich_combined_cleaned,\n",
    ")"
   ]
  },
  {
   "cell_type": "markdown",
   "id": "f9a9e18d-8082-4489-a17d-37cd81246858",
   "metadata": {},
   "source": [
    "### Logit"
   ]
  },
  {
   "cell_type": "code",
   "execution_count": 20,
   "id": "796e8fdb-d6fc-4359-9fdb-c23baa586c0e",
   "metadata": {
    "tags": []
   },
   "outputs": [],
   "source": [
    "logit = sm.GLM(y, X, family=sm.families.Binomial(link=sm.genmod.families.links.logit()))\n",
    "logit = logit.fit()"
   ]
  },
  {
   "cell_type": "code",
   "execution_count": 21,
   "id": "1a14d73e-fbc0-4ae6-8ecf-3f3c2deb938b",
   "metadata": {
    "tags": []
   },
   "outputs": [
    {
     "data": {
      "text/html": [
       "<table class=\"simpletable\">\n",
       "<caption>Generalized Linear Model Regression Results</caption>\n",
       "<tr>\n",
       "  <th>Dep. Variable:</th>     <td>highly_rated</td>   <th>  No. Observations:  </th>  <td>  2450</td> \n",
       "</tr>\n",
       "<tr>\n",
       "  <th>Model:</th>                  <td>GLM</td>       <th>  Df Residuals:      </th>  <td>  2445</td> \n",
       "</tr>\n",
       "<tr>\n",
       "  <th>Model Family:</th>        <td>Binomial</td>     <th>  Df Model:          </th>  <td>     4</td> \n",
       "</tr>\n",
       "<tr>\n",
       "  <th>Link Function:</th>         <td>logit</td>      <th>  Scale:             </th> <td>  1.0000</td>\n",
       "</tr>\n",
       "<tr>\n",
       "  <th>Method:</th>                <td>IRLS</td>       <th>  Log-Likelihood:    </th> <td> -1479.1</td>\n",
       "</tr>\n",
       "<tr>\n",
       "  <th>Date:</th>            <td>Sun, 03 Dec 2023</td> <th>  Deviance:          </th> <td>  2958.2</td>\n",
       "</tr>\n",
       "<tr>\n",
       "  <th>Time:</th>                <td>14:33:50</td>     <th>  Pearson chi2:      </th> <td>2.49e+03</td>\n",
       "</tr>\n",
       "<tr>\n",
       "  <th>No. Iterations:</th>          <td>4</td>        <th>  Pseudo R-squ. (CS):</th>  <td>0.1411</td> \n",
       "</tr>\n",
       "<tr>\n",
       "  <th>Covariance Type:</th>     <td>nonrobust</td>    <th>                     </th>     <td> </td>   \n",
       "</tr>\n",
       "</table>\n",
       "<table class=\"simpletable\">\n",
       "<tr>\n",
       "           <td></td>             <th>coef</th>     <th>std err</th>      <th>z</th>      <th>P>|z|</th>  <th>[0.025</th>    <th>0.975]</th>  \n",
       "</tr>\n",
       "<tr>\n",
       "  <th>Intercept</th>          <td>   -4.3140</td> <td>    0.281</td> <td>  -15.327</td> <td> 0.000</td> <td>   -4.866</td> <td>   -3.762</td>\n",
       "</tr>\n",
       "<tr>\n",
       "  <th>distance</th>           <td>    0.1468</td> <td>    0.019</td> <td>    7.567</td> <td> 0.000</td> <td>    0.109</td> <td>    0.185</td>\n",
       "</tr>\n",
       "<tr>\n",
       "  <th>stars</th>              <td>    1.0224</td> <td>    0.084</td> <td>   12.120</td> <td> 0.000</td> <td>    0.857</td> <td>    1.188</td>\n",
       "</tr>\n",
       "<tr>\n",
       "  <th>price</th>              <td>    0.0075</td> <td>    0.001</td> <td>    6.960</td> <td> 0.000</td> <td>    0.005</td> <td>    0.010</td>\n",
       "</tr>\n",
       "<tr>\n",
       "  <th>rating_reviewcount</th> <td>   -0.0003</td> <td>    0.000</td> <td>   -0.977</td> <td> 0.329</td> <td>   -0.001</td> <td>    0.000</td>\n",
       "</tr>\n",
       "</table>"
      ],
      "text/latex": [
       "\\begin{center}\n",
       "\\begin{tabular}{lclc}\n",
       "\\toprule\n",
       "\\textbf{Dep. Variable:}      &  highly\\_rated   & \\textbf{  No. Observations:  } &     2450    \\\\\n",
       "\\textbf{Model:}              &       GLM        & \\textbf{  Df Residuals:      } &     2445    \\\\\n",
       "\\textbf{Model Family:}       &     Binomial     & \\textbf{  Df Model:          } &        4    \\\\\n",
       "\\textbf{Link Function:}      &      logit       & \\textbf{  Scale:             } &    1.0000   \\\\\n",
       "\\textbf{Method:}             &       IRLS       & \\textbf{  Log-Likelihood:    } &   -1479.1   \\\\\n",
       "\\textbf{Date:}               & Sun, 03 Dec 2023 & \\textbf{  Deviance:          } &    2958.2   \\\\\n",
       "\\textbf{Time:}               &     14:33:50     & \\textbf{  Pearson chi2:      } &  2.49e+03   \\\\\n",
       "\\textbf{No. Iterations:}     &        4         & \\textbf{  Pseudo R-squ. (CS):} &   0.1411    \\\\\n",
       "\\textbf{Covariance Type:}    &    nonrobust     & \\textbf{                     } &             \\\\\n",
       "\\bottomrule\n",
       "\\end{tabular}\n",
       "\\begin{tabular}{lcccccc}\n",
       "                             & \\textbf{coef} & \\textbf{std err} & \\textbf{z} & \\textbf{P$> |$z$|$} & \\textbf{[0.025} & \\textbf{0.975]}  \\\\\n",
       "\\midrule\n",
       "\\textbf{Intercept}           &      -4.3140  &        0.281     &   -15.327  &         0.000        &       -4.866    &       -3.762     \\\\\n",
       "\\textbf{distance}            &       0.1468  &        0.019     &     7.567  &         0.000        &        0.109    &        0.185     \\\\\n",
       "\\textbf{stars}               &       1.0224  &        0.084     &    12.120  &         0.000        &        0.857    &        1.188     \\\\\n",
       "\\textbf{price}               &       0.0075  &        0.001     &     6.960  &         0.000        &        0.005    &        0.010     \\\\\n",
       "\\textbf{rating\\_reviewcount} &      -0.0003  &        0.000     &    -0.977  &         0.329        &       -0.001    &        0.000     \\\\\n",
       "\\bottomrule\n",
       "\\end{tabular}\n",
       "%\\caption{Generalized Linear Model Regression Results}\n",
       "\\end{center}"
      ],
      "text/plain": [
       "<class 'statsmodels.iolib.summary.Summary'>\n",
       "\"\"\"\n",
       "                 Generalized Linear Model Regression Results                  \n",
       "==============================================================================\n",
       "Dep. Variable:           highly_rated   No. Observations:                 2450\n",
       "Model:                            GLM   Df Residuals:                     2445\n",
       "Model Family:                Binomial   Df Model:                            4\n",
       "Link Function:                  logit   Scale:                          1.0000\n",
       "Method:                          IRLS   Log-Likelihood:                -1479.1\n",
       "Date:                Sun, 03 Dec 2023   Deviance:                       2958.2\n",
       "Time:                        14:33:50   Pearson chi2:                 2.49e+03\n",
       "No. Iterations:                     4   Pseudo R-squ. (CS):             0.1411\n",
       "Covariance Type:            nonrobust                                         \n",
       "======================================================================================\n",
       "                         coef    std err          z      P>|z|      [0.025      0.975]\n",
       "--------------------------------------------------------------------------------------\n",
       "Intercept             -4.3140      0.281    -15.327      0.000      -4.866      -3.762\n",
       "distance               0.1468      0.019      7.567      0.000       0.109       0.185\n",
       "stars                  1.0224      0.084     12.120      0.000       0.857       1.188\n",
       "price                  0.0075      0.001      6.960      0.000       0.005       0.010\n",
       "rating_reviewcount    -0.0003      0.000     -0.977      0.329      -0.001       0.000\n",
       "======================================================================================\n",
       "\"\"\""
      ]
     },
     "execution_count": 21,
     "metadata": {},
     "output_type": "execute_result"
    }
   ],
   "source": [
    "logit.summary()"
   ]
  },
  {
   "cell_type": "code",
   "execution_count": 22,
   "id": "370834c3-83d1-4eb9-9231-84176c5be1c3",
   "metadata": {
    "tags": []
   },
   "outputs": [
    {
     "data": {
      "text/plain": [
       "count    2450.000000\n",
       "mean        0.581633\n",
       "std         0.186164\n",
       "min         0.074298\n",
       "25%         0.436460\n",
       "50%         0.587362\n",
       "75%         0.723248\n",
       "max         0.960905\n",
       "Name: pred_logit, dtype: float64"
      ]
     },
     "execution_count": 22,
     "metadata": {},
     "output_type": "execute_result"
    }
   ],
   "source": [
    "munich_combined_cleaned[\"pred_logit\"] = logit.predict()\n",
    "\n",
    "munich_combined_cleaned[\"pred_logit\"].describe()"
   ]
  },
  {
   "cell_type": "code",
   "execution_count": 23,
   "id": "28969f1a-975c-45cf-a932-154a5a00b8dd",
   "metadata": {
    "tags": []
   },
   "outputs": [
    {
     "name": "stdout",
     "output_type": "stream",
     "text": [
      "Optimization terminated successfully.\n",
      "         Current function value: 0.603710\n",
      "         Iterations 6\n"
     ]
    },
    {
     "data": {
      "text/html": [
       "<table class=\"simpletable\">\n",
       "<caption>Logit Regression Results</caption>\n",
       "<tr>\n",
       "  <th>Dep. Variable:</th>     <td>highly_rated</td>   <th>  No. Observations:  </th>  <td>  2450</td>  \n",
       "</tr>\n",
       "<tr>\n",
       "  <th>Model:</th>                 <td>Logit</td>      <th>  Df Residuals:      </th>  <td>  2445</td>  \n",
       "</tr>\n",
       "<tr>\n",
       "  <th>Method:</th>                 <td>MLE</td>       <th>  Df Model:          </th>  <td>     4</td>  \n",
       "</tr>\n",
       "<tr>\n",
       "  <th>Date:</th>            <td>Sun, 03 Dec 2023</td> <th>  Pseudo R-squ.:     </th>  <td>0.1119</td>  \n",
       "</tr>\n",
       "<tr>\n",
       "  <th>Time:</th>                <td>14:33:50</td>     <th>  Log-Likelihood:    </th> <td> -1479.1</td> \n",
       "</tr>\n",
       "<tr>\n",
       "  <th>converged:</th>             <td>True</td>       <th>  LL-Null:           </th> <td> -1665.4</td> \n",
       "</tr>\n",
       "<tr>\n",
       "  <th>Covariance Type:</th>     <td>nonrobust</td>    <th>  LLR p-value:       </th> <td>2.258e-79</td>\n",
       "</tr>\n",
       "</table>\n",
       "<table class=\"simpletable\">\n",
       "<tr>\n",
       "           <td></td>             <th>coef</th>     <th>std err</th>      <th>z</th>      <th>P>|z|</th>  <th>[0.025</th>    <th>0.975]</th>  \n",
       "</tr>\n",
       "<tr>\n",
       "  <th>Intercept</th>          <td>   -4.3140</td> <td>    0.281</td> <td>  -15.327</td> <td> 0.000</td> <td>   -4.866</td> <td>   -3.762</td>\n",
       "</tr>\n",
       "<tr>\n",
       "  <th>distance</th>           <td>    0.1468</td> <td>    0.019</td> <td>    7.567</td> <td> 0.000</td> <td>    0.109</td> <td>    0.185</td>\n",
       "</tr>\n",
       "<tr>\n",
       "  <th>stars</th>              <td>    1.0224</td> <td>    0.084</td> <td>   12.120</td> <td> 0.000</td> <td>    0.857</td> <td>    1.188</td>\n",
       "</tr>\n",
       "<tr>\n",
       "  <th>price</th>              <td>    0.0075</td> <td>    0.001</td> <td>    6.960</td> <td> 0.000</td> <td>    0.005</td> <td>    0.010</td>\n",
       "</tr>\n",
       "<tr>\n",
       "  <th>rating_reviewcount</th> <td>   -0.0003</td> <td>    0.000</td> <td>   -0.977</td> <td> 0.329</td> <td>   -0.001</td> <td>    0.000</td>\n",
       "</tr>\n",
       "</table>"
      ],
      "text/latex": [
       "\\begin{center}\n",
       "\\begin{tabular}{lclc}\n",
       "\\toprule\n",
       "\\textbf{Dep. Variable:}      &  highly\\_rated   & \\textbf{  No. Observations:  } &     2450    \\\\\n",
       "\\textbf{Model:}              &      Logit       & \\textbf{  Df Residuals:      } &     2445    \\\\\n",
       "\\textbf{Method:}             &       MLE        & \\textbf{  Df Model:          } &        4    \\\\\n",
       "\\textbf{Date:}               & Sun, 03 Dec 2023 & \\textbf{  Pseudo R-squ.:     } &   0.1119    \\\\\n",
       "\\textbf{Time:}               &     14:33:50     & \\textbf{  Log-Likelihood:    } &   -1479.1   \\\\\n",
       "\\textbf{converged:}          &       True       & \\textbf{  LL-Null:           } &   -1665.4   \\\\\n",
       "\\textbf{Covariance Type:}    &    nonrobust     & \\textbf{  LLR p-value:       } & 2.258e-79   \\\\\n",
       "\\bottomrule\n",
       "\\end{tabular}\n",
       "\\begin{tabular}{lcccccc}\n",
       "                             & \\textbf{coef} & \\textbf{std err} & \\textbf{z} & \\textbf{P$> |$z$|$} & \\textbf{[0.025} & \\textbf{0.975]}  \\\\\n",
       "\\midrule\n",
       "\\textbf{Intercept}           &      -4.3140  &        0.281     &   -15.327  &         0.000        &       -4.866    &       -3.762     \\\\\n",
       "\\textbf{distance}            &       0.1468  &        0.019     &     7.567  &         0.000        &        0.109    &        0.185     \\\\\n",
       "\\textbf{stars}               &       1.0224  &        0.084     &    12.120  &         0.000        &        0.857    &        1.188     \\\\\n",
       "\\textbf{price}               &       0.0075  &        0.001     &     6.960  &         0.000        &        0.005    &        0.010     \\\\\n",
       "\\textbf{rating\\_reviewcount} &      -0.0003  &        0.000     &    -0.977  &         0.329        &       -0.001    &        0.000     \\\\\n",
       "\\bottomrule\n",
       "\\end{tabular}\n",
       "%\\caption{Logit Regression Results}\n",
       "\\end{center}"
      ],
      "text/plain": [
       "<class 'statsmodels.iolib.summary.Summary'>\n",
       "\"\"\"\n",
       "                           Logit Regression Results                           \n",
       "==============================================================================\n",
       "Dep. Variable:           highly_rated   No. Observations:                 2450\n",
       "Model:                          Logit   Df Residuals:                     2445\n",
       "Method:                           MLE   Df Model:                            4\n",
       "Date:                Sun, 03 Dec 2023   Pseudo R-squ.:                  0.1119\n",
       "Time:                        14:33:50   Log-Likelihood:                -1479.1\n",
       "converged:                       True   LL-Null:                       -1665.4\n",
       "Covariance Type:            nonrobust   LLR p-value:                 2.258e-79\n",
       "======================================================================================\n",
       "                         coef    std err          z      P>|z|      [0.025      0.975]\n",
       "--------------------------------------------------------------------------------------\n",
       "Intercept             -4.3140      0.281    -15.327      0.000      -4.866      -3.762\n",
       "distance               0.1468      0.019      7.567      0.000       0.109       0.185\n",
       "stars                  1.0224      0.084     12.120      0.000       0.857       1.188\n",
       "price                  0.0075      0.001      6.960      0.000       0.005       0.010\n",
       "rating_reviewcount    -0.0003      0.000     -0.977      0.329      -0.001       0.000\n",
       "======================================================================================\n",
       "\"\"\""
      ]
     },
     "execution_count": 23,
     "metadata": {},
     "output_type": "execute_result"
    }
   ],
   "source": [
    "logit = sm.Logit(y, X)\n",
    "\n",
    "logit_result = logit.fit()\n",
    "\n",
    "logit_result.summary()"
   ]
  },
  {
   "cell_type": "code",
   "execution_count": 24,
   "id": "6110539f-57c9-400b-a913-e612aec2348c",
   "metadata": {
    "tags": []
   },
   "outputs": [
    {
     "data": {
      "text/html": [
       "<table class=\"simpletable\">\n",
       "<caption>Logit Marginal Effects</caption>\n",
       "<tr>\n",
       "  <th>Dep. Variable:</th> <td>highly_rated</td>\n",
       "</tr>\n",
       "<tr>\n",
       "  <th>Method:</th>            <td>dydx</td>    \n",
       "</tr>\n",
       "<tr>\n",
       "  <th>At:</th>               <td>overall</td>  \n",
       "</tr>\n",
       "</table>\n",
       "<table class=\"simpletable\">\n",
       "<tr>\n",
       "           <th></th>             <th>dy/dx</th>    <th>std err</th>      <th>z</th>      <th>P>|z|</th>  <th>[0.025</th>    <th>0.975]</th>  \n",
       "</tr>\n",
       "<tr>\n",
       "  <th>distance</th>           <td>    0.0306</td> <td>    0.004</td> <td>    7.893</td> <td> 0.000</td> <td>    0.023</td> <td>    0.038</td>\n",
       "</tr>\n",
       "<tr>\n",
       "  <th>stars</th>              <td>    0.2134</td> <td>    0.016</td> <td>   13.691</td> <td> 0.000</td> <td>    0.183</td> <td>    0.244</td>\n",
       "</tr>\n",
       "<tr>\n",
       "  <th>price</th>              <td>    0.0016</td> <td>    0.000</td> <td>    7.207</td> <td> 0.000</td> <td>    0.001</td> <td>    0.002</td>\n",
       "</tr>\n",
       "<tr>\n",
       "  <th>rating_reviewcount</th> <td> -5.84e-05</td> <td> 5.97e-05</td> <td>   -0.978</td> <td> 0.328</td> <td>   -0.000</td> <td> 5.87e-05</td>\n",
       "</tr>\n",
       "</table>"
      ],
      "text/latex": [
       "\\begin{center}\n",
       "\\begin{tabular}{lc}\n",
       "\\toprule\n",
       "\\textbf{Dep. Variable:}      & highly\\_rated   \\\\\n",
       "\\textbf{Method:}             &      dydx       \\\\\n",
       "\\textbf{At:}                 &    overall      \\\\\n",
       "\\bottomrule\n",
       "\\end{tabular}\n",
       "\\begin{tabular}{ccccccc}\n",
       "         \\textbf{}           & \\textbf{dy/dx} & \\textbf{std err} & \\textbf{z} & \\textbf{P$> |$z$|$} & \\textbf{[0.025} & \\textbf{0.975]}  \\\\\n",
       "\\midrule\n",
       "\\bottomrule\n",
       "\\end{tabular}\n",
       "\\begin{tabular}{lcccccc}\n",
       "\\textbf{distance}            &       0.0306   &        0.004     &     7.893  &         0.000        &        0.023    &        0.038     \\\\\n",
       "\\textbf{stars}               &       0.2134   &        0.016     &    13.691  &         0.000        &        0.183    &        0.244     \\\\\n",
       "\\textbf{price}               &       0.0016   &        0.000     &     7.207  &         0.000        &        0.001    &        0.002     \\\\\n",
       "\\textbf{rating\\_reviewcount} &    -5.84e-05   &     5.97e-05     &    -0.978  &         0.328        &       -0.000    &     5.87e-05     \\\\\n",
       "\\bottomrule\n",
       "\\end{tabular}\n",
       "%\\caption{Logit Marginal Effects}\n",
       "\\end{center}"
      ],
      "text/plain": [
       "<class 'statsmodels.iolib.summary.Summary'>\n",
       "\"\"\"\n",
       "        Logit Marginal Effects       \n",
       "=====================================\n",
       "Dep. Variable:           highly_rated\n",
       "Method:                          dydx\n",
       "At:                           overall\n",
       "======================================================================================\n",
       "                        dy/dx    std err          z      P>|z|      [0.025      0.975]\n",
       "--------------------------------------------------------------------------------------\n",
       "distance               0.0306      0.004      7.893      0.000       0.023       0.038\n",
       "stars                  0.2134      0.016     13.691      0.000       0.183       0.244\n",
       "price                  0.0016      0.000      7.207      0.000       0.001       0.002\n",
       "rating_reviewcount  -5.84e-05   5.97e-05     -0.978      0.328      -0.000    5.87e-05\n",
       "======================================================================================\n",
       "\"\"\""
      ]
     },
     "execution_count": 24,
     "metadata": {},
     "output_type": "execute_result"
    }
   ],
   "source": [
    "logit_margef_results = logit_result.get_margeff()\n",
    "\n",
    "logit_margef_results.summary()"
   ]
  },
  {
   "cell_type": "markdown",
   "id": "f5225454-5e6f-4146-9c2a-fc46b5678be0",
   "metadata": {},
   "source": [
    "### Probit"
   ]
  },
  {
   "cell_type": "code",
   "execution_count": 25,
   "id": "2072fea9-cf3e-4574-9ee7-da7ef86fb6d1",
   "metadata": {
    "tags": []
   },
   "outputs": [
    {
     "name": "stdout",
     "output_type": "stream",
     "text": [
      "Optimization terminated successfully.\n",
      "         Current function value: 0.604327\n",
      "         Iterations 5\n"
     ]
    },
    {
     "data": {
      "text/html": [
       "<table class=\"simpletable\">\n",
       "<caption>Probit Regression Results</caption>\n",
       "<tr>\n",
       "  <th>Dep. Variable:</th>     <td>highly_rated</td>   <th>  No. Observations:  </th>  <td>  2450</td>  \n",
       "</tr>\n",
       "<tr>\n",
       "  <th>Model:</th>                <td>Probit</td>      <th>  Df Residuals:      </th>  <td>  2445</td>  \n",
       "</tr>\n",
       "<tr>\n",
       "  <th>Method:</th>                 <td>MLE</td>       <th>  Df Model:          </th>  <td>     4</td>  \n",
       "</tr>\n",
       "<tr>\n",
       "  <th>Date:</th>            <td>Sun, 03 Dec 2023</td> <th>  Pseudo R-squ.:     </th>  <td>0.1110</td>  \n",
       "</tr>\n",
       "<tr>\n",
       "  <th>Time:</th>                <td>14:33:50</td>     <th>  Log-Likelihood:    </th> <td> -1480.6</td> \n",
       "</tr>\n",
       "<tr>\n",
       "  <th>converged:</th>             <td>True</td>       <th>  LL-Null:           </th> <td> -1665.4</td> \n",
       "</tr>\n",
       "<tr>\n",
       "  <th>Covariance Type:</th>     <td>nonrobust</td>    <th>  LLR p-value:       </th> <td>1.016e-78</td>\n",
       "</tr>\n",
       "</table>\n",
       "<table class=\"simpletable\">\n",
       "<tr>\n",
       "           <td></td>             <th>coef</th>     <th>std err</th>      <th>z</th>      <th>P>|z|</th>  <th>[0.025</th>    <th>0.975]</th>  \n",
       "</tr>\n",
       "<tr>\n",
       "  <th>Intercept</th>          <td>   -2.5951</td> <td>    0.163</td> <td>  -15.883</td> <td> 0.000</td> <td>   -2.915</td> <td>   -2.275</td>\n",
       "</tr>\n",
       "<tr>\n",
       "  <th>distance</th>           <td>    0.0842</td> <td>    0.011</td> <td>    7.535</td> <td> 0.000</td> <td>    0.062</td> <td>    0.106</td>\n",
       "</tr>\n",
       "<tr>\n",
       "  <th>stars</th>              <td>    0.6280</td> <td>    0.050</td> <td>   12.646</td> <td> 0.000</td> <td>    0.531</td> <td>    0.725</td>\n",
       "</tr>\n",
       "<tr>\n",
       "  <th>price</th>              <td>    0.0043</td> <td>    0.001</td> <td>    7.003</td> <td> 0.000</td> <td>    0.003</td> <td>    0.005</td>\n",
       "</tr>\n",
       "<tr>\n",
       "  <th>rating_reviewcount</th> <td>   -0.0002</td> <td>    0.000</td> <td>   -1.027</td> <td> 0.304</td> <td>   -0.001</td> <td>    0.000</td>\n",
       "</tr>\n",
       "</table>"
      ],
      "text/latex": [
       "\\begin{center}\n",
       "\\begin{tabular}{lclc}\n",
       "\\toprule\n",
       "\\textbf{Dep. Variable:}      &  highly\\_rated   & \\textbf{  No. Observations:  } &     2450    \\\\\n",
       "\\textbf{Model:}              &      Probit      & \\textbf{  Df Residuals:      } &     2445    \\\\\n",
       "\\textbf{Method:}             &       MLE        & \\textbf{  Df Model:          } &        4    \\\\\n",
       "\\textbf{Date:}               & Sun, 03 Dec 2023 & \\textbf{  Pseudo R-squ.:     } &   0.1110    \\\\\n",
       "\\textbf{Time:}               &     14:33:50     & \\textbf{  Log-Likelihood:    } &   -1480.6   \\\\\n",
       "\\textbf{converged:}          &       True       & \\textbf{  LL-Null:           } &   -1665.4   \\\\\n",
       "\\textbf{Covariance Type:}    &    nonrobust     & \\textbf{  LLR p-value:       } & 1.016e-78   \\\\\n",
       "\\bottomrule\n",
       "\\end{tabular}\n",
       "\\begin{tabular}{lcccccc}\n",
       "                             & \\textbf{coef} & \\textbf{std err} & \\textbf{z} & \\textbf{P$> |$z$|$} & \\textbf{[0.025} & \\textbf{0.975]}  \\\\\n",
       "\\midrule\n",
       "\\textbf{Intercept}           &      -2.5951  &        0.163     &   -15.883  &         0.000        &       -2.915    &       -2.275     \\\\\n",
       "\\textbf{distance}            &       0.0842  &        0.011     &     7.535  &         0.000        &        0.062    &        0.106     \\\\\n",
       "\\textbf{stars}               &       0.6280  &        0.050     &    12.646  &         0.000        &        0.531    &        0.725     \\\\\n",
       "\\textbf{price}               &       0.0043  &        0.001     &     7.003  &         0.000        &        0.003    &        0.005     \\\\\n",
       "\\textbf{rating\\_reviewcount} &      -0.0002  &        0.000     &    -1.027  &         0.304        &       -0.001    &        0.000     \\\\\n",
       "\\bottomrule\n",
       "\\end{tabular}\n",
       "%\\caption{Probit Regression Results}\n",
       "\\end{center}"
      ],
      "text/plain": [
       "<class 'statsmodels.iolib.summary.Summary'>\n",
       "\"\"\"\n",
       "                          Probit Regression Results                           \n",
       "==============================================================================\n",
       "Dep. Variable:           highly_rated   No. Observations:                 2450\n",
       "Model:                         Probit   Df Residuals:                     2445\n",
       "Method:                           MLE   Df Model:                            4\n",
       "Date:                Sun, 03 Dec 2023   Pseudo R-squ.:                  0.1110\n",
       "Time:                        14:33:50   Log-Likelihood:                -1480.6\n",
       "converged:                       True   LL-Null:                       -1665.4\n",
       "Covariance Type:            nonrobust   LLR p-value:                 1.016e-78\n",
       "======================================================================================\n",
       "                         coef    std err          z      P>|z|      [0.025      0.975]\n",
       "--------------------------------------------------------------------------------------\n",
       "Intercept             -2.5951      0.163    -15.883      0.000      -2.915      -2.275\n",
       "distance               0.0842      0.011      7.535      0.000       0.062       0.106\n",
       "stars                  0.6280      0.050     12.646      0.000       0.531       0.725\n",
       "price                  0.0043      0.001      7.003      0.000       0.003       0.005\n",
       "rating_reviewcount    -0.0002      0.000     -1.027      0.304      -0.001       0.000\n",
       "======================================================================================\n",
       "\"\"\""
      ]
     },
     "execution_count": 25,
     "metadata": {},
     "output_type": "execute_result"
    }
   ],
   "source": [
    "probit = sm.Probit(y, X)\n",
    "\n",
    "probit_result = probit.fit()\n",
    "\n",
    "probit_result.summary()"
   ]
  },
  {
   "cell_type": "code",
   "execution_count": 26,
   "id": "ca609a71-9014-4fbf-8340-ca7f6b90c1cb",
   "metadata": {
    "tags": []
   },
   "outputs": [
    {
     "data": {
      "text/plain": [
       "count    2450.000000\n",
       "mean        0.580625\n",
       "std         0.184188\n",
       "min         0.062800\n",
       "25%         0.438711\n",
       "50%         0.581259\n",
       "75%         0.720667\n",
       "max         0.970324\n",
       "Name: pred_probit, dtype: float64"
      ]
     },
     "execution_count": 26,
     "metadata": {},
     "output_type": "execute_result"
    }
   ],
   "source": [
    "munich_combined_cleaned[\"pred_probit\"] = probit_result.predict()\n",
    "\n",
    "munich_combined_cleaned[\"pred_probit\"].describe()"
   ]
  },
  {
   "cell_type": "code",
   "execution_count": 27,
   "id": "cb8f7ae3-8045-4906-b687-0c2421fdeeff",
   "metadata": {
    "tags": []
   },
   "outputs": [
    {
     "data": {
      "text/html": [
       "<table class=\"simpletable\">\n",
       "<caption>Probit Marginal Effects</caption>\n",
       "<tr>\n",
       "  <th>Dep. Variable:</th> <td>highly_rated</td>\n",
       "</tr>\n",
       "<tr>\n",
       "  <th>Method:</th>            <td>dydx</td>    \n",
       "</tr>\n",
       "<tr>\n",
       "  <th>At:</th>               <td>overall</td>  \n",
       "</tr>\n",
       "</table>\n",
       "<table class=\"simpletable\">\n",
       "<tr>\n",
       "           <th></th>             <th>dy/dx</th>    <th>std err</th>      <th>z</th>      <th>P>|z|</th>  <th>[0.025</th>    <th>0.975]</th>  \n",
       "</tr>\n",
       "<tr>\n",
       "  <th>distance</th>           <td>    0.0290</td> <td>    0.004</td> <td>    7.768</td> <td> 0.000</td> <td>    0.022</td> <td>    0.036</td>\n",
       "</tr>\n",
       "<tr>\n",
       "  <th>stars</th>              <td>    0.2166</td> <td>    0.015</td> <td>   14.090</td> <td> 0.000</td> <td>    0.187</td> <td>    0.247</td>\n",
       "</tr>\n",
       "<tr>\n",
       "  <th>price</th>              <td>    0.0015</td> <td>    0.000</td> <td>    7.184</td> <td> 0.000</td> <td>    0.001</td> <td>    0.002</td>\n",
       "</tr>\n",
       "<tr>\n",
       "  <th>rating_reviewcount</th> <td>-6.192e-05</td> <td> 6.02e-05</td> <td>   -1.028</td> <td> 0.304</td> <td>   -0.000</td> <td> 5.61e-05</td>\n",
       "</tr>\n",
       "</table>"
      ],
      "text/latex": [
       "\\begin{center}\n",
       "\\begin{tabular}{lc}\n",
       "\\toprule\n",
       "\\textbf{Dep. Variable:}      & highly\\_rated   \\\\\n",
       "\\textbf{Method:}             &      dydx       \\\\\n",
       "\\textbf{At:}                 &    overall      \\\\\n",
       "\\bottomrule\n",
       "\\end{tabular}\n",
       "\\begin{tabular}{ccccccc}\n",
       "         \\textbf{}           & \\textbf{dy/dx} & \\textbf{std err} & \\textbf{z} & \\textbf{P$> |$z$|$} & \\textbf{[0.025} & \\textbf{0.975]}  \\\\\n",
       "\\midrule\n",
       "\\bottomrule\n",
       "\\end{tabular}\n",
       "\\begin{tabular}{lcccccc}\n",
       "\\textbf{distance}            &       0.0290   &        0.004     &     7.768  &         0.000        &        0.022    &        0.036     \\\\\n",
       "\\textbf{stars}               &       0.2166   &        0.015     &    14.090  &         0.000        &        0.187    &        0.247     \\\\\n",
       "\\textbf{price}               &       0.0015   &        0.000     &     7.184  &         0.000        &        0.001    &        0.002     \\\\\n",
       "\\textbf{rating\\_reviewcount} &   -6.192e-05   &     6.02e-05     &    -1.028  &         0.304        &       -0.000    &     5.61e-05     \\\\\n",
       "\\bottomrule\n",
       "\\end{tabular}\n",
       "%\\caption{Probit Marginal Effects}\n",
       "\\end{center}"
      ],
      "text/plain": [
       "<class 'statsmodels.iolib.summary.Summary'>\n",
       "\"\"\"\n",
       "       Probit Marginal Effects       \n",
       "=====================================\n",
       "Dep. Variable:           highly_rated\n",
       "Method:                          dydx\n",
       "At:                           overall\n",
       "======================================================================================\n",
       "                        dy/dx    std err          z      P>|z|      [0.025      0.975]\n",
       "--------------------------------------------------------------------------------------\n",
       "distance               0.0290      0.004      7.768      0.000       0.022       0.036\n",
       "stars                  0.2166      0.015     14.090      0.000       0.187       0.247\n",
       "price                  0.0015      0.000      7.184      0.000       0.001       0.002\n",
       "rating_reviewcount -6.192e-05   6.02e-05     -1.028      0.304      -0.000    5.61e-05\n",
       "======================================================================================\n",
       "\"\"\""
      ]
     },
     "execution_count": 27,
     "metadata": {},
     "output_type": "execute_result"
    }
   ],
   "source": [
    "probit_margef_results = probit_result.get_margeff()\n",
    "\n",
    "probit_margef_results.summary()"
   ]
  },
  {
   "cell_type": "markdown",
   "id": "2533a2a6",
   "metadata": {},
   "source": [
    "\n",
    "## Part 4: Analysis and Interpretation\n",
    "Finally, we analyze the results by comparing predicted probabilities, marginal effects, and the coefficients"
   ]
  },
  {
   "cell_type": "markdown",
   "id": "0236f6dd-2eda-4a31-b2bd-14b1260c37b9",
   "metadata": {
    "tags": []
   },
   "source": [
    "### Predicted Probabilities"
   ]
  },
  {
   "cell_type": "code",
   "execution_count": 28,
   "id": "dd58cdc8-33d0-4062-a50d-6b7878c2399c",
   "metadata": {
    "tags": []
   },
   "outputs": [],
   "source": [
    "df_plot = pd.melt(\n",
    "    munich_combined_cleaned[[\"lpm_model_pred\", \"pred_logit\", \"pred_probit\"]].rename(\n",
    "        columns={\"pred_logit\": \"Logit\", \"pred_probit\": \"Probit\"}\n",
    "    ),\n",
    "    value_vars=[\"Logit\", \"Probit\"],\n",
    "    id_vars=[\"lpm_model_pred\"],\n",
    ").sort_values(by=[\"variable\"], ascending=False)"
   ]
  },
  {
   "cell_type": "code",
   "execution_count": 29,
   "id": "8e307450-12d7-48dc-acdc-1b0dcc8b14b2",
   "metadata": {
    "tags": []
   },
   "outputs": [
    {
     "data": {
      "image/png": "[encoded data removed]",
      "text/plain": [
       "<Figure size 640x480 with 1 Axes>"
      ]
     },
     "metadata": {
      "image/png": {
       "height": 480,
       "width": 640
      }
     },
     "output_type": "display_data"
    },
    {
     "data": {
      "text/plain": [
       "<Figure Size: (640 x 480)>"
      ]
     },
     "execution_count": 29,
     "metadata": {},
     "output_type": "execute_result"
    }
   ],
   "source": [
    "g5 = (\n",
    "    ggplot(df_plot, aes(x=\"lpm_model_pred\", y=\"value\", color=\"variable\"))\n",
    "    + geom_point(size=0.6)\n",
    "    + geom_abline( intercept=0, slope=1, size=1)\n",
    "    + labs(\n",
    "        x=\"Predicted probability (LPM)\", y=\"Predicted probability\"\n",
    "    )\n",
    "    + scale_y_continuous(expand=[0.00, 0.0], limits=[0, 1])\n",
    "    + scale_x_continuous(expand=[0.00, 0.0], limits=[0, 1])\n",
    "    + theme_bw()\n",
    "    + theme(\n",
    "        legend_title=element_blank(),\n",
    "        legend_direction=\"horizontal\",\n",
    "        legend_position=(0.75, 0.25),\n",
    "        legend_background=element_blank(),\n",
    "    )\n",
    ")\n",
    "g5"
   ]
  },
  {
   "cell_type": "markdown",
   "id": "0ae0c5bf-e2fb-4b72-beac-6027e1aa14ba",
   "metadata": {},
   "source": [
    "- The predicted probabilities from the logistic and probit models generally concur with those from the Linear Probability Model (LPM), as most data points are distributed closely around the diagonal line representing agreement between the models.\n",
    "\n",
    "- There is no clear evidence of systematic bias in either the logistic or probit model compared to the LPM, indicating that both non-linear models provide similar probability predictions for the outcome.\n",
    "\n",
    "- The distribution of points across the plot suggests that both logistic and probit models align with the LPM across the full range of predicted probabilities, with no significant divergence at the extremes, which implies consistent model performance."
   ]
  },
  {
   "cell_type": "markdown",
   "id": "29e578ae-ae96-4a98-a460-d0cbc53ceae2",
   "metadata": {},
   "source": [
    "### Marginal Differences"
   ]
  },
  {
   "cell_type": "code",
   "execution_count": 33,
   "id": "93e2ffd5-3192-4ea2-b71a-3f2fcc6df2d2",
   "metadata": {
    "tags": []
   },
   "outputs": [
    {
     "name": "stdout",
     "output_type": "stream",
     "text": [
      "                    LPM Marginal Effects  Logit Marginal Effects  \\\n",
      "distance                        0.029331                0.030638   \n",
      "stars                           0.215125                0.213374   \n",
      "price                           0.001446                0.001567   \n",
      "rating_reviewcount             -0.000069               -0.000058   \n",
      "\n",
      "                    Probit Marginal Effects  Logit-LPM Differences  \\\n",
      "distance                           0.029032               0.001307   \n",
      "stars                              0.216647              -0.001751   \n",
      "price                              0.001470               0.000122   \n",
      "rating_reviewcount                -0.000062               0.000010   \n",
      "\n",
      "                    Probit-LPM Differences  \n",
      "distance                         -0.000299  \n",
      "stars                             0.001521  \n",
      "price                             0.000024  \n",
      "rating_reviewcount                0.000007  \n"
     ]
    }
   ],
   "source": [
    "# Fit the OLS model (LPM) using a formula string\n",
    "lpm_model = smf.ols('highly_rated ~ distance + stars + price + rating_reviewcount', data=munich_combined_cleaned).fit()\n",
    "\n",
    "# Extract the coefficients (marginal effects) from the LPM\n",
    "lpm_margeffs = lpm_model.params.drop('Intercept')\n",
    "\n",
    "# Assuming logit_margef_results and probit_margef_results are already obtained\n",
    "# Extract marginal effects from logit and probit models\n",
    "logit_margeffs = logit_margef_results.summary_frame()['dy/dx']\n",
    "probit_margeffs = probit_margef_results.summary_frame()['dy/dx']\n",
    "\n",
    "# Ensure that all frames have the same order of variables\n",
    "if not (logit_margeffs.index.equals(probit_margeffs.index) and logit_margeffs.index.equals(lpm_margeffs.index)):\n",
    "    raise ValueError(\"The order or number of variables in the models does not match.\")\n",
    "\n",
    "# Create a DataFrame to display the comparison results\n",
    "comparison = pd.DataFrame({\n",
    "    'LPM Marginal Effects': lpm_margeffs,\n",
    "    'Logit Marginal Effects': logit_margeffs,\n",
    "    'Probit Marginal Effects': probit_margeffs\n",
    "})\n",
    "\n",
    "# Calculating Differences between the models\n",
    "comparison['Logit-LPM Differences'] = comparison['Logit Marginal Effects'] - comparison['LPM Marginal Effects']\n",
    "comparison['Probit-LPM Differences'] = comparison['Probit Marginal Effects'] - comparison['LPM Marginal Effects']\n",
    "\n",
    "print(comparison)\n",
    "\n"
   ]
  },
  {
   "cell_type": "markdown",
   "id": "8d843823-db0c-4105-ba04-7ce84b50f63c",
   "metadata": {},
   "source": [
    "- The differences in the marginal effects across the Linear Probability Model (LPM), Logistic, and Probit models are generally minimal for all the variables (distance, stars, price, and rating_reviewcount). This indicates that, for this dataset and these specific predictors, choosing between the LPM, Logistic, and Probit models does not lead to significantly different estimations of predictor impacts.\n",
    "\n",
    "- The direction of the effects (whether positive or negative) for each predictor variable is consistent across all three models. This consistency reinforces the reliability of the model predictions in terms of the direction of influence that each variable has on the probability of the outcome.\n",
    "\n",
    "- The small magnitude of the differences in marginal effects between the models suggests that the linear approximation provided by the LPM is quite close to the non-linear estimations of the Logistic and Probit models. This similarity indicates that the LPM can serve as a reasonable approximation for the effects of these predictors, despite its simplicity compared to the Logistic and Probit models."
   ]
  },
  {
   "cell_type": "markdown",
   "id": "cb317067-a8d9-446e-b388-d88b98c67764",
   "metadata": {},
   "source": [
    "### Coefficient Comparison"
   ]
  },
  {
   "cell_type": "code",
   "execution_count": null,
   "id": "4d03882c-8d61-4e5c-980f-52e8be9919e1",
   "metadata": {},
   "outputs": [],
   "source": []
  }
 ],
 "metadata": {
  "kernelspec": {
   "display_name": "Python 3 (ipykernel)",
   "language": "python",
   "name": "python3"
  },
  "language_info": {
   "codemirror_mode": {
    "name": "ipython",
    "version": 3
   },
   "file_extension": ".py",
   "mimetype": "text/x-python",
   "name": "python",
   "nbconvert_exporter": "python",
   "pygments_lexer": "ipython3",
   "version": "3.11.4"
  }
 },
 "nbformat": 4,
 "nbformat_minor": 5
}
