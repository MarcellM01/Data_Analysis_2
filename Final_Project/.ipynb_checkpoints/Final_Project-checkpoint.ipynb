{
 "cells": [
  {
   "cell_type": "markdown",
   "id": "e9c6fa15-13c2-4839-b664-2a9f03591190",
   "metadata": {},
   "source": [
    "# Does the length of airplane flights influence percieved satisfaction among passengers"
   ]
  },
  {
   "cell_type": "markdown",
   "id": "1eef4dca-7f38-4570-b218-5b993c36620d",
   "metadata": {},
   "source": [
    "#### Author: Marcell Magda\n",
    "\n",
    "#### Date: 20/12/2024\n",
    "\n",
    "#### Subject: Data Analysis 2"
   ]
  },
  {
   "cell_type": "markdown",
   "id": "13c690bf-c9f0-4545-8fd8-0e4f0665a0ff",
   "metadata": {},
   "source": [
    "## Abstract:"
   ]
  },
  {
   "cell_type": "markdown",
   "id": "6c4d2926-7660-4b42-8257-80a430151047",
   "metadata": {},
   "source": [
    "This study focuses on analyzing customer satisfaction among airline passengers, with an emphasis on understanding how flight distance and other variables influence this satisfaction. Utilizing a dataset from the Maven Analytics data playground, which includes various factors such as age, class of travel, type of travel, and in-flight services, the analysis aims to uncover patterns and relationships within the data. The dependent variable, customer satisfaction, is measured as a binary outcome, where 'Satisfied' responses are coded as 1, and all other responses are coded as 0. The primary explanatory variable of interest is flight distance, alongside control variables like age, class, type of travel, and various in-flight service ratings.\n",
    "\n",
    "The methodology involves an initial exploratory data analysis (EDA) to understand the distributions of key variables and identify any potential data quality issues. Following this, linear regression models are developed. Special attention is paid to addressing multicollinearity by excluding one category in dummy variables and ensuring the correct data types for regression analysis."
   ]
  },
  {
   "cell_type": "code",
   "execution_count": 18,
   "id": "139c5373-2fab-4c18-a6c4-8492e314afd1",
   "metadata": {
    "tags": []
   },
   "outputs": [],
   "source": [
    "# Ignore warnings\n",
    "import os\n",
    "import sys\n",
    "import warnings\n",
    "warnings.filterwarnings(\"ignore\")\n",
    "\n",
    "# Data handling\n",
    "import numpy as np\n",
    "import pandas as pd\n",
    "from datetime import datetime\n",
    "\n",
    "# Regression\n",
    "from mizani.transforms import log_trans\n",
    "from mizani.formatters import percent_format\n",
    "from mizani.formatters import log_format\n",
    "from plotnine import *\n",
    "from scipy.stats import norm\n",
    "import statsmodels.formula.api as smf\n",
    "\n",
    "# Visuals\n",
    "from stargazer.stargazer import Stargazer\n",
    "from plotnine import *\n"
   ]
  },
  {
   "cell_type": "markdown",
   "id": "395025fc-eedd-425c-8a9c-03b6345e54e8",
   "metadata": {},
   "source": [
    "## Part 1: Introduction"
   ]
  },
  {
   "cell_type": "markdown",
   "id": "d7168e18-6da6-4e1d-8ac3-eaa14b8dc283",
   "metadata": {},
   "source": [
    "In an era where the airline industry is rapidly evolving with advancements in technology and changing consumer preferences, understanding the factors that drive passenger satisfaction is vital. Air travel, once a luxury, has now become a common mode of transportation, bringing with it the challenge of maintaining high levels of customer satisfaction. The airline industry faces a unique set of challenges, ranging from operational efficiency and safety to enhancing passenger experience. In this dynamic context, the Airline Passenger Satisfaction (APS) Survey emerges as a critical measure, reflecting how airlines meet or exceed passenger expectations in various aspects of their service.\n",
    "\n",
    "This study aims to:\n",
    "\n",
    "- Examine the key drivers of Airline Passenger Satisfaction (APS) across a diverse range of airlines.\n",
    "- Analyze the correlation between APS and flight distance, considering the impact of longer flights on passenger satisfaction.\n",
    "- Explore the relationship between APS and various factors such as age, class of travel, type of travel, and in-flight services.\n",
    "- Investigate the role of in-flight amenities, such as seat comfort, leg room, food and drink, and in-flight entertainment, in shaping passenger satisfaction.\n",
    "- Assess any correlation between APS and demographic factors like age and gender.\n",
    "\n",
    "Based on initial insights and a cursory review of the data, the study posits the following expectations regarding the relationship between the Airline Passenger Satisfaction (APS) and the various influencing factors:\n",
    "\n",
    "- Longer flights potentially lead to higher passenger satisfaction due to better in-flight services offered on such routes.\n",
    "- Age and preferences for travel class may significantly influence passenger satisfaction, with varying expectations across different age groups and travel classes.\n",
    "- In-flight amenities, including comfort, service quality, and entertainment options, play a crucial role in determining overall passenger satisfaction.\n",
    "- Demographic factors, such as age and gender, might exhibit specific trends in terms of preferences and satisfaction levels.\n",
    "- Delays may influence the perception of passenger regarding the quality of the flight.\n",
    "\n",
    "The outcomes of this study are expected to provide valuable insights into the airline industry's efforts to enhance passenger satisfaction, contributing to strategies that cater to diverse passenger needs and preferences in the ever-evolving landscape of air travel."
   ]
  },
  {
   "cell_type": "markdown",
   "id": "298b3d18-1c46-486f-9b89-5b6daea10f54",
   "metadata": {},
   "source": [
    "## Part 2: Data"
   ]
  },
  {
   "cell_type": "markdown",
   "id": "3d572433-4a96-4c2b-bf3a-073d3962de3d",
   "metadata": {},
   "source": [
    "For the analysis conducted in this study, the dataset was sourced from the Maven Analytics Data Playground, specifically focusing on airline passenger satisfaction. The dataset, initially comprising 129,880 observations, represents individual airline passengers. Each observation includes various attributes related to the passenger's flight experience. After preprocessing, including handling missing values and creating necessary variables, the dataset was streamlined for the regression analysis. The pre processing also included drastically trimming down the number of values to comply with the exercise, a method of true random sampling (or as close as could be achived in python at my skill level) was used to get 5000 values to be used for the analysis.\n",
    "\n",
    "**Primary Dependent Variable:**\n",
    "\n",
    "The primary dependent variable for this study is airline passenger satisfaction, represented as a binary outcome in the `satisfied_customer` variable, where '1' indicates satisfaction and '0' represents neutral or dissatisfied responses. This binary format simplifies the interpretation of the logistic regression analysis. \n",
    "\n",
    "**Explanatory Variable:**\n",
    "- **Flight Distance:** The primary factor of interest, measuring the length of the flight in miles.\n",
    "\n",
    "Control variables are categorized into different groups for a structured analysis:\n",
    "\n",
    "**Demographic Indicators:**\n",
    "- **Age:** The age of the passenger.\n",
    "- **Female:** Is the passenger a woman.\n",
    "\n",
    "**Travel Type/Class Indicators:**\n",
    "- **Class_Economy:** Dummy variable indicating whether the passenger traveled in Economy class.\n",
    "- **Class_Economy Plus:** Dummy variable indicating whether the passenger traveled in Economy Plus class.\n",
    "- **Type of Travel_Personal:** Dummy variable indicating whether the travel was for personal reasons.\n",
    "\n",
    "**In-Flight Service Indicators:**\n",
    "- **In-flight Service:** Rating of the overall in-flight service.\n",
    "- **Seat Comfort:** Rating of the seat comfort.\n",
    "- **Leg Room Service:** Rating of the leg room service.\n",
    "- **Food and Drink:** Rating of the food and drink service.\n",
    "\n",
    "**Delay Indicators:**\n",
    "- **Departure Delay:** Delay on departure.\n",
    "- **Arrival Delay:** Delay on arrival.\n",
    "\n",
    "Each of these variables was carefully chosen and prepared to capture different aspects of the airline travel experience that could influence passenger satisfaction. The transformation of categorical variables into dummy variables and the treatment of continuous variables (like flight distance and age) were key steps in the feature engineering process. \n",
    "\n",
    "This structured approach to categorizing the variables facilitates a more nuanced understanding of how various factors, from flight length to in-flight amenities, impact overall passenger satisfaction in the airline industry."
   ]
  },
  {
   "cell_type": "markdown",
   "id": "d614a853-9dd0-4eee-9e9b-39109ba29a1b",
   "metadata": {},
   "source": [
    "### Load data"
   ]
  },
  {
   "cell_type": "code",
   "execution_count": 2,
   "id": "a6588e48-54dc-4fc8-b45a-019b4910c334",
   "metadata": {},
   "outputs": [],
   "source": [
    "# Load the dataset\n",
    "file_path_airline = 'airline_passenger_satisfaction.csv'\n",
    "airline_data = pd.read_csv(file_path_airline)"
   ]
  },
  {
   "cell_type": "markdown",
   "id": "5547e18c-f972-4105-ae17-71fa8f8489c4",
   "metadata": {},
   "source": [
    "### Overview of data"
   ]
  },
  {
   "cell_type": "code",
   "execution_count": 3,
   "id": "c8fc021c-b5f1-4696-a41f-6e67a0c27747",
   "metadata": {
    "tags": []
   },
   "outputs": [
    {
     "data": {
      "text/html": [
       "<div>\n",
       "<style scoped>\n",
       "    .dataframe tbody tr th:only-of-type {\n",
       "        vertical-align: middle;\n",
       "    }\n",
       "\n",
       "    .dataframe tbody tr th {\n",
       "        vertical-align: top;\n",
       "    }\n",
       "\n",
       "    .dataframe thead th {\n",
       "        text-align: right;\n",
       "    }\n",
       "</style>\n",
       "<table border=\"1\" class=\"dataframe\">\n",
       "  <thead>\n",
       "    <tr style=\"text-align: right;\">\n",
       "      <th></th>\n",
       "      <th>ID</th>\n",
       "      <th>Gender</th>\n",
       "      <th>Age</th>\n",
       "      <th>Customer Type</th>\n",
       "      <th>Type of Travel</th>\n",
       "      <th>Class</th>\n",
       "      <th>Flight Distance</th>\n",
       "      <th>Departure Delay</th>\n",
       "      <th>Arrival Delay</th>\n",
       "      <th>Departure and Arrival Time Convenience</th>\n",
       "      <th>...</th>\n",
       "      <th>On-board Service</th>\n",
       "      <th>Seat Comfort</th>\n",
       "      <th>Leg Room Service</th>\n",
       "      <th>Cleanliness</th>\n",
       "      <th>Food and Drink</th>\n",
       "      <th>In-flight Service</th>\n",
       "      <th>In-flight Wifi Service</th>\n",
       "      <th>In-flight Entertainment</th>\n",
       "      <th>Baggage Handling</th>\n",
       "      <th>Satisfaction</th>\n",
       "    </tr>\n",
       "  </thead>\n",
       "  <tbody>\n",
       "    <tr>\n",
       "      <th>0</th>\n",
       "      <td>1</td>\n",
       "      <td>Male</td>\n",
       "      <td>48</td>\n",
       "      <td>First-time</td>\n",
       "      <td>Business</td>\n",
       "      <td>Business</td>\n",
       "      <td>821</td>\n",
       "      <td>2</td>\n",
       "      <td>5.0</td>\n",
       "      <td>3</td>\n",
       "      <td>...</td>\n",
       "      <td>3</td>\n",
       "      <td>5</td>\n",
       "      <td>2</td>\n",
       "      <td>5</td>\n",
       "      <td>5</td>\n",
       "      <td>5</td>\n",
       "      <td>3</td>\n",
       "      <td>5</td>\n",
       "      <td>5</td>\n",
       "      <td>Neutral or Dissatisfied</td>\n",
       "    </tr>\n",
       "    <tr>\n",
       "      <th>1</th>\n",
       "      <td>2</td>\n",
       "      <td>Female</td>\n",
       "      <td>35</td>\n",
       "      <td>Returning</td>\n",
       "      <td>Business</td>\n",
       "      <td>Business</td>\n",
       "      <td>821</td>\n",
       "      <td>26</td>\n",
       "      <td>39.0</td>\n",
       "      <td>2</td>\n",
       "      <td>...</td>\n",
       "      <td>5</td>\n",
       "      <td>4</td>\n",
       "      <td>5</td>\n",
       "      <td>5</td>\n",
       "      <td>3</td>\n",
       "      <td>5</td>\n",
       "      <td>2</td>\n",
       "      <td>5</td>\n",
       "      <td>5</td>\n",
       "      <td>Satisfied</td>\n",
       "    </tr>\n",
       "    <tr>\n",
       "      <th>2</th>\n",
       "      <td>3</td>\n",
       "      <td>Male</td>\n",
       "      <td>41</td>\n",
       "      <td>Returning</td>\n",
       "      <td>Business</td>\n",
       "      <td>Business</td>\n",
       "      <td>853</td>\n",
       "      <td>0</td>\n",
       "      <td>0.0</td>\n",
       "      <td>4</td>\n",
       "      <td>...</td>\n",
       "      <td>3</td>\n",
       "      <td>5</td>\n",
       "      <td>3</td>\n",
       "      <td>5</td>\n",
       "      <td>5</td>\n",
       "      <td>3</td>\n",
       "      <td>4</td>\n",
       "      <td>3</td>\n",
       "      <td>3</td>\n",
       "      <td>Satisfied</td>\n",
       "    </tr>\n",
       "    <tr>\n",
       "      <th>3</th>\n",
       "      <td>4</td>\n",
       "      <td>Male</td>\n",
       "      <td>50</td>\n",
       "      <td>Returning</td>\n",
       "      <td>Business</td>\n",
       "      <td>Business</td>\n",
       "      <td>1905</td>\n",
       "      <td>0</td>\n",
       "      <td>0.0</td>\n",
       "      <td>2</td>\n",
       "      <td>...</td>\n",
       "      <td>5</td>\n",
       "      <td>5</td>\n",
       "      <td>5</td>\n",
       "      <td>4</td>\n",
       "      <td>4</td>\n",
       "      <td>5</td>\n",
       "      <td>2</td>\n",
       "      <td>5</td>\n",
       "      <td>5</td>\n",
       "      <td>Satisfied</td>\n",
       "    </tr>\n",
       "    <tr>\n",
       "      <th>4</th>\n",
       "      <td>5</td>\n",
       "      <td>Female</td>\n",
       "      <td>49</td>\n",
       "      <td>Returning</td>\n",
       "      <td>Business</td>\n",
       "      <td>Business</td>\n",
       "      <td>3470</td>\n",
       "      <td>0</td>\n",
       "      <td>1.0</td>\n",
       "      <td>3</td>\n",
       "      <td>...</td>\n",
       "      <td>3</td>\n",
       "      <td>4</td>\n",
       "      <td>4</td>\n",
       "      <td>5</td>\n",
       "      <td>4</td>\n",
       "      <td>3</td>\n",
       "      <td>3</td>\n",
       "      <td>3</td>\n",
       "      <td>3</td>\n",
       "      <td>Satisfied</td>\n",
       "    </tr>\n",
       "  </tbody>\n",
       "</table>\n",
       "<p>5 rows × 24 columns</p>\n",
       "</div>"
      ],
      "text/plain": [
       "   ID  Gender  Age Customer Type Type of Travel     Class  Flight Distance  \\\n",
       "0   1    Male   48    First-time       Business  Business              821   \n",
       "1   2  Female   35     Returning       Business  Business              821   \n",
       "2   3    Male   41     Returning       Business  Business              853   \n",
       "3   4    Male   50     Returning       Business  Business             1905   \n",
       "4   5  Female   49     Returning       Business  Business             3470   \n",
       "\n",
       "   Departure Delay  Arrival Delay  Departure and Arrival Time Convenience  \\\n",
       "0                2            5.0                                       3   \n",
       "1               26           39.0                                       2   \n",
       "2                0            0.0                                       4   \n",
       "3                0            0.0                                       2   \n",
       "4                0            1.0                                       3   \n",
       "\n",
       "   ...  On-board Service  Seat Comfort  Leg Room Service  Cleanliness  \\\n",
       "0  ...                 3             5                 2            5   \n",
       "1  ...                 5             4                 5            5   \n",
       "2  ...                 3             5                 3            5   \n",
       "3  ...                 5             5                 5            4   \n",
       "4  ...                 3             4                 4            5   \n",
       "\n",
       "   Food and Drink  In-flight Service  In-flight Wifi Service  \\\n",
       "0               5                  5                       3   \n",
       "1               3                  5                       2   \n",
       "2               5                  3                       4   \n",
       "3               4                  5                       2   \n",
       "4               4                  3                       3   \n",
       "\n",
       "   In-flight Entertainment  Baggage Handling             Satisfaction  \n",
       "0                        5                 5  Neutral or Dissatisfied  \n",
       "1                        5                 5                Satisfied  \n",
       "2                        3                 3                Satisfied  \n",
       "3                        5                 5                Satisfied  \n",
       "4                        3                 3                Satisfied  \n",
       "\n",
       "[5 rows x 24 columns]"
      ]
     },
     "execution_count": 3,
     "metadata": {},
     "output_type": "execute_result"
    }
   ],
   "source": [
    "data_overview = airline_data.head()\n",
    "\n",
    "data_overview"
   ]
  },
  {
   "cell_type": "markdown",
   "id": "e932e40a-30a2-4cd1-8b79-2771007fa066",
   "metadata": {},
   "source": [
    "### Check for missing values"
   ]
  },
  {
   "cell_type": "code",
   "execution_count": 4,
   "id": "1e978c82-5403-4716-af89-63960e828d67",
   "metadata": {},
   "outputs": [
    {
     "data": {
      "text/plain": [
       "ID                                          0\n",
       "Gender                                      0\n",
       "Age                                         0\n",
       "Customer Type                               0\n",
       "Type of Travel                              0\n",
       "Class                                       0\n",
       "Flight Distance                             0\n",
       "Departure Delay                             0\n",
       "Arrival Delay                             393\n",
       "Departure and Arrival Time Convenience      0\n",
       "Ease of Online Booking                      0\n",
       "Check-in Service                            0\n",
       "Online Boarding                             0\n",
       "Gate Location                               0\n",
       "On-board Service                            0\n",
       "Seat Comfort                                0\n",
       "Leg Room Service                            0\n",
       "Cleanliness                                 0\n",
       "Food and Drink                              0\n",
       "In-flight Service                           0\n",
       "In-flight Wifi Service                      0\n",
       "In-flight Entertainment                     0\n",
       "Baggage Handling                            0\n",
       "Satisfaction                                0\n",
       "dtype: int64"
      ]
     },
     "execution_count": 4,
     "metadata": {},
     "output_type": "execute_result"
    }
   ],
   "source": [
    "# Checking for missing values and getting an overview of the dataset\n",
    "missing_values_overview = airline_data.isnull().sum()\n",
    "\n",
    "missing_values_overview"
   ]
  },
  {
   "cell_type": "markdown",
   "id": "844b9f7f-8491-4604-b802-44a12826d4e2",
   "metadata": {},
   "source": [
    "### Remove missing values"
   ]
  },
  {
   "cell_type": "code",
   "execution_count": 5,
   "id": "60830053-eaf2-4856-8d09-4ca3968aa396",
   "metadata": {
    "tags": []
   },
   "outputs": [
    {
     "name": "stdout",
     "output_type": "stream",
     "text": [
      "Number of null values: ID                                        0\n",
      "Gender                                    0\n",
      "Age                                       0\n",
      "Customer Type                             0\n",
      "Type of Travel                            0\n",
      "Class                                     0\n",
      "Flight Distance                           0\n",
      "Departure Delay                           0\n",
      "Arrival Delay                             0\n",
      "Departure and Arrival Time Convenience    0\n",
      "Ease of Online Booking                    0\n",
      "Check-in Service                          0\n",
      "Online Boarding                           0\n",
      "Gate Location                             0\n",
      "On-board Service                          0\n",
      "Seat Comfort                              0\n",
      "Leg Room Service                          0\n",
      "Cleanliness                               0\n",
      "Food and Drink                            0\n",
      "In-flight Service                         0\n",
      "In-flight Wifi Service                    0\n",
      "In-flight Entertainment                   0\n",
      "Baggage Handling                          0\n",
      "Satisfaction                              0\n",
      "dtype: int64\n"
     ]
    }
   ],
   "source": [
    "# Cleaning the data by removing rows with missing or infinite values\n",
    "airline_data = airline_data.replace(np.nan).dropna()\n",
    "\n",
    "# Check if there are any Null values left\n",
    "print('Number of null values:', airline_data.isnull().sum())"
   ]
  },
  {
   "cell_type": "markdown",
   "id": "5c02e087-4a42-48eb-a7f5-8100eca7447d",
   "metadata": {},
   "source": [
    "### Replace spaces in the variable names"
   ]
  },
  {
   "cell_type": "code",
   "execution_count": 6,
   "id": "67e04724-5e16-4b87-9223-cbd5c2bfbdc1",
   "metadata": {
    "tags": []
   },
   "outputs": [
    {
     "data": {
      "text/plain": [
       "['ID',\n",
       " 'Gender',\n",
       " 'Age',\n",
       " 'Customer_Type',\n",
       " 'Type_of_Travel',\n",
       " 'Class',\n",
       " 'Flight_Distance',\n",
       " 'Departure_Delay',\n",
       " 'Arrival_Delay',\n",
       " 'Departure_and_Arrival_Time_Convenience',\n",
       " 'Ease_of_Online_Booking',\n",
       " 'Check-in_Service',\n",
       " 'Online_Boarding',\n",
       " 'Gate_Location',\n",
       " 'On-board_Service',\n",
       " 'Seat_Comfort',\n",
       " 'Leg_Room_Service',\n",
       " 'Cleanliness',\n",
       " 'Food_and_Drink',\n",
       " 'In-flight_Service',\n",
       " 'In-flight_Wifi_Service',\n",
       " 'In-flight_Entertainment',\n",
       " 'Baggage_Handling',\n",
       " 'Satisfaction']"
      ]
     },
     "execution_count": 6,
     "metadata": {},
     "output_type": "execute_result"
    }
   ],
   "source": [
    "# Replacing spaces with underscores in the column names of the DataFrame\n",
    "airline_data.columns = airline_data.columns.str.replace(' ', '_')\n",
    "\n",
    "# Checking the updated column names\n",
    "updated_column_names = airline_data.columns.tolist()\n",
    "updated_column_names"
   ]
  },
  {
   "cell_type": "markdown",
   "id": "c3f58e25-cac8-4242-affb-3343a175c0e7",
   "metadata": {},
   "source": [
    "### Trimming database to 5000 values"
   ]
  },
  {
   "cell_type": "code",
   "execution_count": 7,
   "id": "8395dbea-dab5-4f0d-b5f3-4831ed1285b8",
   "metadata": {
    "tags": []
   },
   "outputs": [
    {
     "data": {
      "text/plain": [
       "(129880, 5000)"
      ]
     },
     "execution_count": 7,
     "metadata": {},
     "output_type": "execute_result"
    }
   ],
   "source": [
    "# Setting the seed for reproducibility\n",
    "np.random.seed(0)\n",
    "\n",
    "# Getting the length of the 'airline_data' DataFrame\n",
    "data_length = len(airline_data)\n",
    "\n",
    "# Trimming the DataFrame to 5000 rows using fully random sampling\n",
    "sampled_airline_data = airline_data.sample(n=5000, random_state=0)\n",
    "\n",
    "# Length of the original DataFrame and the sampled DataFrame\n",
    "original_length = data_length\n",
    "sampled_length = len(sampled_airline_data)\n",
    "\n",
    "original_length, sampled_length\n"
   ]
  },
  {
   "cell_type": "markdown",
   "id": "81fef185-b9e5-4493-8361-2589665ed5f0",
   "metadata": {},
   "source": [
    "## Part 3: Exploratory Data Analysis"
   ]
  },
  {
   "cell_type": "markdown",
   "id": "6853a841-876c-4e9c-b825-8665e2558ca4",
   "metadata": {},
   "source": [
    "### Dependent and Control Variables"
   ]
  },
  {
   "cell_type": "markdown",
   "id": "25019e24-a133-4dea-9be3-b9165a19bcce",
   "metadata": {},
   "source": [
    "#### Create Dependent variable"
   ]
  },
  {
   "cell_type": "code",
   "execution_count": 8,
   "id": "c7dba7ba-252f-4dc2-9d60-3dd314638695",
   "metadata": {
    "tags": []
   },
   "outputs": [],
   "source": [
    "# Initial data preparation\n",
    "# Creating the binary 'satisfied_customer' variable\n",
    "sampled_airline_data['satisfied_customer'] = (sampled_airline_data['Satisfaction'] == 'Satisfied').astype(int)\n",
    "\n",
    "# Dropping the original 'Satisfaction' column to avoid confusion\n",
    "sampled_airline_data = sampled_airline_data.drop('Satisfaction', axis=1)"
   ]
  },
  {
   "cell_type": "markdown",
   "id": "a80d088e-b023-4307-8742-6a6d9f325417",
   "metadata": {},
   "source": [
    "#### Create control variables"
   ]
  },
  {
   "cell_type": "code",
   "execution_count": 9,
   "id": "f1e3dd57-1201-4648-aa21-ad6d0ec229d5",
   "metadata": {
    "tags": []
   },
   "outputs": [],
   "source": [
    "# Female\n",
    "sampled_airline_data['Female'] = (sampled_airline_data['Gender'] == 'Female').astype(int)\n",
    "\n",
    "# Economy and Economy Plus\n",
    "sampled_airline_data['Class_Economy'] = (sampled_airline_data['Class'] == 'Economy').astype(int)\n",
    "sampled_airline_data['Class_Economy_Plus'] = (sampled_airline_data['Class'] == 'Economy Plus').astype(int)\n",
    "\n",
    "# Type of travel\n",
    "sampled_airline_data['Type_of_Travel_Personal'] = (sampled_airline_data['Type_of_Travel'] == 'Personal').astype(int)"
   ]
  },
  {
   "cell_type": "markdown",
   "id": "4684523d-a134-49a0-98d9-61aa0ff03fba",
   "metadata": {},
   "source": [
    "#### Check if dependant and control variables are present"
   ]
  },
  {
   "cell_type": "code",
   "execution_count": 10,
   "id": "ab09c492-f77e-4211-a6d8-1567f956713e",
   "metadata": {
    "tags": []
   },
   "outputs": [
    {
     "data": {
      "text/html": [
       "<div>\n",
       "<style scoped>\n",
       "    .dataframe tbody tr th:only-of-type {\n",
       "        vertical-align: middle;\n",
       "    }\n",
       "\n",
       "    .dataframe tbody tr th {\n",
       "        vertical-align: top;\n",
       "    }\n",
       "\n",
       "    .dataframe thead th {\n",
       "        text-align: right;\n",
       "    }\n",
       "</style>\n",
       "<table border=\"1\" class=\"dataframe\">\n",
       "  <thead>\n",
       "    <tr style=\"text-align: right;\">\n",
       "      <th></th>\n",
       "      <th>ID</th>\n",
       "      <th>Gender</th>\n",
       "      <th>Age</th>\n",
       "      <th>Customer_Type</th>\n",
       "      <th>Type_of_Travel</th>\n",
       "      <th>Class</th>\n",
       "      <th>Flight_Distance</th>\n",
       "      <th>Departure_Delay</th>\n",
       "      <th>Arrival_Delay</th>\n",
       "      <th>Departure_and_Arrival_Time_Convenience</th>\n",
       "      <th>...</th>\n",
       "      <th>Food_and_Drink</th>\n",
       "      <th>In-flight_Service</th>\n",
       "      <th>In-flight_Wifi_Service</th>\n",
       "      <th>In-flight_Entertainment</th>\n",
       "      <th>Baggage_Handling</th>\n",
       "      <th>satisfied_customer</th>\n",
       "      <th>Female</th>\n",
       "      <th>Class_Economy</th>\n",
       "      <th>Class_Economy_Plus</th>\n",
       "      <th>Type_of_Travel_Personal</th>\n",
       "    </tr>\n",
       "  </thead>\n",
       "  <tbody>\n",
       "    <tr>\n",
       "      <th>125669</th>\n",
       "      <td>125670</td>\n",
       "      <td>Male</td>\n",
       "      <td>44</td>\n",
       "      <td>Returning</td>\n",
       "      <td>Business</td>\n",
       "      <td>Business</td>\n",
       "      <td>3898</td>\n",
       "      <td>0</td>\n",
       "      <td>0.0</td>\n",
       "      <td>5</td>\n",
       "      <td>...</td>\n",
       "      <td>1</td>\n",
       "      <td>4</td>\n",
       "      <td>4</td>\n",
       "      <td>4</td>\n",
       "      <td>4</td>\n",
       "      <td>0</td>\n",
       "      <td>0</td>\n",
       "      <td>0</td>\n",
       "      <td>0</td>\n",
       "      <td>0</td>\n",
       "    </tr>\n",
       "    <tr>\n",
       "      <th>90648</th>\n",
       "      <td>90649</td>\n",
       "      <td>Male</td>\n",
       "      <td>49</td>\n",
       "      <td>Returning</td>\n",
       "      <td>Business</td>\n",
       "      <td>Business</td>\n",
       "      <td>594</td>\n",
       "      <td>0</td>\n",
       "      <td>1.0</td>\n",
       "      <td>2</td>\n",
       "      <td>...</td>\n",
       "      <td>5</td>\n",
       "      <td>5</td>\n",
       "      <td>2</td>\n",
       "      <td>5</td>\n",
       "      <td>5</td>\n",
       "      <td>1</td>\n",
       "      <td>0</td>\n",
       "      <td>0</td>\n",
       "      <td>0</td>\n",
       "      <td>0</td>\n",
       "    </tr>\n",
       "    <tr>\n",
       "      <th>45322</th>\n",
       "      <td>45323</td>\n",
       "      <td>Female</td>\n",
       "      <td>40</td>\n",
       "      <td>Returning</td>\n",
       "      <td>Business</td>\n",
       "      <td>Business</td>\n",
       "      <td>188</td>\n",
       "      <td>0</td>\n",
       "      <td>0.0</td>\n",
       "      <td>5</td>\n",
       "      <td>...</td>\n",
       "      <td>1</td>\n",
       "      <td>4</td>\n",
       "      <td>5</td>\n",
       "      <td>4</td>\n",
       "      <td>4</td>\n",
       "      <td>1</td>\n",
       "      <td>1</td>\n",
       "      <td>0</td>\n",
       "      <td>0</td>\n",
       "      <td>0</td>\n",
       "    </tr>\n",
       "    <tr>\n",
       "      <th>64084</th>\n",
       "      <td>64085</td>\n",
       "      <td>Female</td>\n",
       "      <td>67</td>\n",
       "      <td>Returning</td>\n",
       "      <td>Personal</td>\n",
       "      <td>Economy</td>\n",
       "      <td>919</td>\n",
       "      <td>4</td>\n",
       "      <td>5.0</td>\n",
       "      <td>3</td>\n",
       "      <td>...</td>\n",
       "      <td>5</td>\n",
       "      <td>3</td>\n",
       "      <td>2</td>\n",
       "      <td>3</td>\n",
       "      <td>4</td>\n",
       "      <td>0</td>\n",
       "      <td>1</td>\n",
       "      <td>1</td>\n",
       "      <td>0</td>\n",
       "      <td>1</td>\n",
       "    </tr>\n",
       "    <tr>\n",
       "      <th>71595</th>\n",
       "      <td>71596</td>\n",
       "      <td>Female</td>\n",
       "      <td>26</td>\n",
       "      <td>Returning</td>\n",
       "      <td>Business</td>\n",
       "      <td>Business</td>\n",
       "      <td>1504</td>\n",
       "      <td>0</td>\n",
       "      <td>0.0</td>\n",
       "      <td>4</td>\n",
       "      <td>...</td>\n",
       "      <td>1</td>\n",
       "      <td>3</td>\n",
       "      <td>1</td>\n",
       "      <td>1</td>\n",
       "      <td>3</td>\n",
       "      <td>0</td>\n",
       "      <td>1</td>\n",
       "      <td>0</td>\n",
       "      <td>0</td>\n",
       "      <td>0</td>\n",
       "    </tr>\n",
       "    <tr>\n",
       "      <th>...</th>\n",
       "      <td>...</td>\n",
       "      <td>...</td>\n",
       "      <td>...</td>\n",
       "      <td>...</td>\n",
       "      <td>...</td>\n",
       "      <td>...</td>\n",
       "      <td>...</td>\n",
       "      <td>...</td>\n",
       "      <td>...</td>\n",
       "      <td>...</td>\n",
       "      <td>...</td>\n",
       "      <td>...</td>\n",
       "      <td>...</td>\n",
       "      <td>...</td>\n",
       "      <td>...</td>\n",
       "      <td>...</td>\n",
       "      <td>...</td>\n",
       "      <td>...</td>\n",
       "      <td>...</td>\n",
       "      <td>...</td>\n",
       "      <td>...</td>\n",
       "    </tr>\n",
       "    <tr>\n",
       "      <th>83471</th>\n",
       "      <td>83472</td>\n",
       "      <td>Male</td>\n",
       "      <td>26</td>\n",
       "      <td>Returning</td>\n",
       "      <td>Business</td>\n",
       "      <td>Business</td>\n",
       "      <td>1900</td>\n",
       "      <td>0</td>\n",
       "      <td>0.0</td>\n",
       "      <td>4</td>\n",
       "      <td>...</td>\n",
       "      <td>3</td>\n",
       "      <td>4</td>\n",
       "      <td>3</td>\n",
       "      <td>3</td>\n",
       "      <td>4</td>\n",
       "      <td>0</td>\n",
       "      <td>0</td>\n",
       "      <td>0</td>\n",
       "      <td>0</td>\n",
       "      <td>0</td>\n",
       "    </tr>\n",
       "    <tr>\n",
       "      <th>57542</th>\n",
       "      <td>57543</td>\n",
       "      <td>Male</td>\n",
       "      <td>48</td>\n",
       "      <td>Returning</td>\n",
       "      <td>Personal</td>\n",
       "      <td>Economy</td>\n",
       "      <td>413</td>\n",
       "      <td>34</td>\n",
       "      <td>34.0</td>\n",
       "      <td>5</td>\n",
       "      <td>...</td>\n",
       "      <td>3</td>\n",
       "      <td>5</td>\n",
       "      <td>2</td>\n",
       "      <td>3</td>\n",
       "      <td>5</td>\n",
       "      <td>0</td>\n",
       "      <td>0</td>\n",
       "      <td>1</td>\n",
       "      <td>0</td>\n",
       "      <td>1</td>\n",
       "    </tr>\n",
       "    <tr>\n",
       "      <th>89815</th>\n",
       "      <td>89816</td>\n",
       "      <td>Male</td>\n",
       "      <td>42</td>\n",
       "      <td>Returning</td>\n",
       "      <td>Business</td>\n",
       "      <td>Business</td>\n",
       "      <td>3215</td>\n",
       "      <td>0</td>\n",
       "      <td>0.0</td>\n",
       "      <td>3</td>\n",
       "      <td>...</td>\n",
       "      <td>2</td>\n",
       "      <td>4</td>\n",
       "      <td>3</td>\n",
       "      <td>4</td>\n",
       "      <td>4</td>\n",
       "      <td>1</td>\n",
       "      <td>0</td>\n",
       "      <td>0</td>\n",
       "      <td>0</td>\n",
       "      <td>0</td>\n",
       "    </tr>\n",
       "    <tr>\n",
       "      <th>44569</th>\n",
       "      <td>44570</td>\n",
       "      <td>Male</td>\n",
       "      <td>36</td>\n",
       "      <td>First-time</td>\n",
       "      <td>Business</td>\n",
       "      <td>Economy</td>\n",
       "      <td>84</td>\n",
       "      <td>6</td>\n",
       "      <td>0.0</td>\n",
       "      <td>0</td>\n",
       "      <td>...</td>\n",
       "      <td>3</td>\n",
       "      <td>1</td>\n",
       "      <td>2</td>\n",
       "      <td>3</td>\n",
       "      <td>5</td>\n",
       "      <td>0</td>\n",
       "      <td>0</td>\n",
       "      <td>1</td>\n",
       "      <td>0</td>\n",
       "      <td>0</td>\n",
       "    </tr>\n",
       "    <tr>\n",
       "      <th>110429</th>\n",
       "      <td>110430</td>\n",
       "      <td>Female</td>\n",
       "      <td>37</td>\n",
       "      <td>Returning</td>\n",
       "      <td>Business</td>\n",
       "      <td>Business</td>\n",
       "      <td>525</td>\n",
       "      <td>17</td>\n",
       "      <td>6.0</td>\n",
       "      <td>0</td>\n",
       "      <td>...</td>\n",
       "      <td>3</td>\n",
       "      <td>4</td>\n",
       "      <td>1</td>\n",
       "      <td>4</td>\n",
       "      <td>4</td>\n",
       "      <td>0</td>\n",
       "      <td>1</td>\n",
       "      <td>0</td>\n",
       "      <td>0</td>\n",
       "      <td>0</td>\n",
       "    </tr>\n",
       "  </tbody>\n",
       "</table>\n",
       "<p>5000 rows × 28 columns</p>\n",
       "</div>"
      ],
      "text/plain": [
       "            ID  Gender  Age Customer_Type Type_of_Travel     Class  \\\n",
       "125669  125670    Male   44     Returning       Business  Business   \n",
       "90648    90649    Male   49     Returning       Business  Business   \n",
       "45322    45323  Female   40     Returning       Business  Business   \n",
       "64084    64085  Female   67     Returning       Personal   Economy   \n",
       "71595    71596  Female   26     Returning       Business  Business   \n",
       "...        ...     ...  ...           ...            ...       ...   \n",
       "83471    83472    Male   26     Returning       Business  Business   \n",
       "57542    57543    Male   48     Returning       Personal   Economy   \n",
       "89815    89816    Male   42     Returning       Business  Business   \n",
       "44569    44570    Male   36    First-time       Business   Economy   \n",
       "110429  110430  Female   37     Returning       Business  Business   \n",
       "\n",
       "        Flight_Distance  Departure_Delay  Arrival_Delay  \\\n",
       "125669             3898                0            0.0   \n",
       "90648               594                0            1.0   \n",
       "45322               188                0            0.0   \n",
       "64084               919                4            5.0   \n",
       "71595              1504                0            0.0   \n",
       "...                 ...              ...            ...   \n",
       "83471              1900                0            0.0   \n",
       "57542               413               34           34.0   \n",
       "89815              3215                0            0.0   \n",
       "44569                84                6            0.0   \n",
       "110429              525               17            6.0   \n",
       "\n",
       "        Departure_and_Arrival_Time_Convenience  ...  Food_and_Drink  \\\n",
       "125669                                       5  ...               1   \n",
       "90648                                        2  ...               5   \n",
       "45322                                        5  ...               1   \n",
       "64084                                        3  ...               5   \n",
       "71595                                        4  ...               1   \n",
       "...                                        ...  ...             ...   \n",
       "83471                                        4  ...               3   \n",
       "57542                                        5  ...               3   \n",
       "89815                                        3  ...               2   \n",
       "44569                                        0  ...               3   \n",
       "110429                                       0  ...               3   \n",
       "\n",
       "        In-flight_Service  In-flight_Wifi_Service  In-flight_Entertainment  \\\n",
       "125669                  4                       4                        4   \n",
       "90648                   5                       2                        5   \n",
       "45322                   4                       5                        4   \n",
       "64084                   3                       2                        3   \n",
       "71595                   3                       1                        1   \n",
       "...                   ...                     ...                      ...   \n",
       "83471                   4                       3                        3   \n",
       "57542                   5                       2                        3   \n",
       "89815                   4                       3                        4   \n",
       "44569                   1                       2                        3   \n",
       "110429                  4                       1                        4   \n",
       "\n",
       "        Baggage_Handling  satisfied_customer  Female  Class_Economy  \\\n",
       "125669                 4                   0       0              0   \n",
       "90648                  5                   1       0              0   \n",
       "45322                  4                   1       1              0   \n",
       "64084                  4                   0       1              1   \n",
       "71595                  3                   0       1              0   \n",
       "...                  ...                 ...     ...            ...   \n",
       "83471                  4                   0       0              0   \n",
       "57542                  5                   0       0              1   \n",
       "89815                  4                   1       0              0   \n",
       "44569                  5                   0       0              1   \n",
       "110429                 4                   0       1              0   \n",
       "\n",
       "        Class_Economy_Plus  Type_of_Travel_Personal  \n",
       "125669                   0                        0  \n",
       "90648                    0                        0  \n",
       "45322                    0                        0  \n",
       "64084                    0                        1  \n",
       "71595                    0                        0  \n",
       "...                    ...                      ...  \n",
       "83471                    0                        0  \n",
       "57542                    0                        1  \n",
       "89815                    0                        0  \n",
       "44569                    0                        0  \n",
       "110429                   0                        0  \n",
       "\n",
       "[5000 rows x 28 columns]"
      ]
     },
     "execution_count": 10,
     "metadata": {},
     "output_type": "execute_result"
    }
   ],
   "source": [
    "sampled_airline_data"
   ]
  },
  {
   "cell_type": "markdown",
   "id": "fead274a-a24c-446c-a15a-c5c7dc7dbb41",
   "metadata": {},
   "source": [
    "### Summary Statistics For Key Variables"
   ]
  },
  {
   "cell_type": "code",
   "execution_count": 13,
   "id": "4f34c379-3fbe-4483-a7ed-f2b3895cc0cf",
   "metadata": {},
   "outputs": [
    {
     "data": {
      "text/html": [
       "<div>\n",
       "<style scoped>\n",
       "    .dataframe tbody tr th:only-of-type {\n",
       "        vertical-align: middle;\n",
       "    }\n",
       "\n",
       "    .dataframe tbody tr th {\n",
       "        vertical-align: top;\n",
       "    }\n",
       "\n",
       "    .dataframe thead th {\n",
       "        text-align: right;\n",
       "    }\n",
       "</style>\n",
       "<table border=\"1\" class=\"dataframe\">\n",
       "  <thead>\n",
       "    <tr style=\"text-align: right;\">\n",
       "      <th></th>\n",
       "      <th>satisfied_customer</th>\n",
       "      <th>Flight_Distance</th>\n",
       "      <th>Age</th>\n",
       "      <th>Female</th>\n",
       "      <th>Class_Economy</th>\n",
       "      <th>Class_Economy_Plus</th>\n",
       "      <th>Type_of_Travel_Personal</th>\n",
       "      <th>In-flight_Service</th>\n",
       "      <th>Seat_Comfort</th>\n",
       "      <th>Leg_Room_Service</th>\n",
       "      <th>Food_and_Drink</th>\n",
       "      <th>Departure_Delay</th>\n",
       "      <th>Arrival_Delay</th>\n",
       "    </tr>\n",
       "  </thead>\n",
       "  <tbody>\n",
       "    <tr>\n",
       "      <th>count</th>\n",
       "      <td>5000.000000</td>\n",
       "      <td>5000.000000</td>\n",
       "      <td>5000.000000</td>\n",
       "      <td>5000.000000</td>\n",
       "      <td>5000.000000</td>\n",
       "      <td>5000.000000</td>\n",
       "      <td>5000.000000</td>\n",
       "      <td>5000.000000</td>\n",
       "      <td>5000.000000</td>\n",
       "      <td>5000.000000</td>\n",
       "      <td>5000.000000</td>\n",
       "      <td>5000.000000</td>\n",
       "      <td>5000.000000</td>\n",
       "    </tr>\n",
       "    <tr>\n",
       "      <th>mean</th>\n",
       "      <td>0.440400</td>\n",
       "      <td>1197.088800</td>\n",
       "      <td>39.375200</td>\n",
       "      <td>0.509400</td>\n",
       "      <td>0.446400</td>\n",
       "      <td>0.072000</td>\n",
       "      <td>0.311800</td>\n",
       "      <td>3.648600</td>\n",
       "      <td>3.445800</td>\n",
       "      <td>3.370800</td>\n",
       "      <td>3.178200</td>\n",
       "      <td>14.655000</td>\n",
       "      <td>14.892400</td>\n",
       "    </tr>\n",
       "    <tr>\n",
       "      <th>std</th>\n",
       "      <td>0.496485</td>\n",
       "      <td>992.846421</td>\n",
       "      <td>15.204942</td>\n",
       "      <td>0.499962</td>\n",
       "      <td>0.497168</td>\n",
       "      <td>0.258514</td>\n",
       "      <td>0.463275</td>\n",
       "      <td>1.179575</td>\n",
       "      <td>1.328689</td>\n",
       "      <td>1.317594</td>\n",
       "      <td>1.328607</td>\n",
       "      <td>40.551987</td>\n",
       "      <td>40.607918</td>\n",
       "    </tr>\n",
       "    <tr>\n",
       "      <th>min</th>\n",
       "      <td>0.000000</td>\n",
       "      <td>31.000000</td>\n",
       "      <td>7.000000</td>\n",
       "      <td>0.000000</td>\n",
       "      <td>0.000000</td>\n",
       "      <td>0.000000</td>\n",
       "      <td>0.000000</td>\n",
       "      <td>1.000000</td>\n",
       "      <td>1.000000</td>\n",
       "      <td>0.000000</td>\n",
       "      <td>0.000000</td>\n",
       "      <td>0.000000</td>\n",
       "      <td>0.000000</td>\n",
       "    </tr>\n",
       "    <tr>\n",
       "      <th>25%</th>\n",
       "      <td>0.000000</td>\n",
       "      <td>419.000000</td>\n",
       "      <td>27.000000</td>\n",
       "      <td>0.000000</td>\n",
       "      <td>0.000000</td>\n",
       "      <td>0.000000</td>\n",
       "      <td>0.000000</td>\n",
       "      <td>3.000000</td>\n",
       "      <td>2.000000</td>\n",
       "      <td>2.000000</td>\n",
       "      <td>2.000000</td>\n",
       "      <td>0.000000</td>\n",
       "      <td>0.000000</td>\n",
       "    </tr>\n",
       "    <tr>\n",
       "      <th>50%</th>\n",
       "      <td>0.000000</td>\n",
       "      <td>853.000000</td>\n",
       "      <td>40.000000</td>\n",
       "      <td>1.000000</td>\n",
       "      <td>0.000000</td>\n",
       "      <td>0.000000</td>\n",
       "      <td>0.000000</td>\n",
       "      <td>4.000000</td>\n",
       "      <td>4.000000</td>\n",
       "      <td>4.000000</td>\n",
       "      <td>3.000000</td>\n",
       "      <td>0.000000</td>\n",
       "      <td>0.000000</td>\n",
       "    </tr>\n",
       "    <tr>\n",
       "      <th>75%</th>\n",
       "      <td>1.000000</td>\n",
       "      <td>1750.000000</td>\n",
       "      <td>51.000000</td>\n",
       "      <td>1.000000</td>\n",
       "      <td>1.000000</td>\n",
       "      <td>0.000000</td>\n",
       "      <td>1.000000</td>\n",
       "      <td>5.000000</td>\n",
       "      <td>5.000000</td>\n",
       "      <td>4.000000</td>\n",
       "      <td>4.000000</td>\n",
       "      <td>12.000000</td>\n",
       "      <td>12.000000</td>\n",
       "    </tr>\n",
       "    <tr>\n",
       "      <th>max</th>\n",
       "      <td>1.000000</td>\n",
       "      <td>4963.000000</td>\n",
       "      <td>85.000000</td>\n",
       "      <td>1.000000</td>\n",
       "      <td>1.000000</td>\n",
       "      <td>1.000000</td>\n",
       "      <td>1.000000</td>\n",
       "      <td>5.000000</td>\n",
       "      <td>5.000000</td>\n",
       "      <td>5.000000</td>\n",
       "      <td>5.000000</td>\n",
       "      <td>1305.000000</td>\n",
       "      <td>1280.000000</td>\n",
       "    </tr>\n",
       "  </tbody>\n",
       "</table>\n",
       "</div>"
      ],
      "text/plain": [
       "       satisfied_customer  Flight_Distance          Age       Female  \\\n",
       "count         5000.000000      5000.000000  5000.000000  5000.000000   \n",
       "mean             0.440400      1197.088800    39.375200     0.509400   \n",
       "std              0.496485       992.846421    15.204942     0.499962   \n",
       "min              0.000000        31.000000     7.000000     0.000000   \n",
       "25%              0.000000       419.000000    27.000000     0.000000   \n",
       "50%              0.000000       853.000000    40.000000     1.000000   \n",
       "75%              1.000000      1750.000000    51.000000     1.000000   \n",
       "max              1.000000      4963.000000    85.000000     1.000000   \n",
       "\n",
       "       Class_Economy  Class_Economy_Plus  Type_of_Travel_Personal  \\\n",
       "count    5000.000000         5000.000000              5000.000000   \n",
       "mean        0.446400            0.072000                 0.311800   \n",
       "std         0.497168            0.258514                 0.463275   \n",
       "min         0.000000            0.000000                 0.000000   \n",
       "25%         0.000000            0.000000                 0.000000   \n",
       "50%         0.000000            0.000000                 0.000000   \n",
       "75%         1.000000            0.000000                 1.000000   \n",
       "max         1.000000            1.000000                 1.000000   \n",
       "\n",
       "       In-flight_Service  Seat_Comfort  Leg_Room_Service  Food_and_Drink  \\\n",
       "count        5000.000000   5000.000000       5000.000000     5000.000000   \n",
       "mean            3.648600      3.445800          3.370800        3.178200   \n",
       "std             1.179575      1.328689          1.317594        1.328607   \n",
       "min             1.000000      1.000000          0.000000        0.000000   \n",
       "25%             3.000000      2.000000          2.000000        2.000000   \n",
       "50%             4.000000      4.000000          4.000000        3.000000   \n",
       "75%             5.000000      5.000000          4.000000        4.000000   \n",
       "max             5.000000      5.000000          5.000000        5.000000   \n",
       "\n",
       "       Departure_Delay  Arrival_Delay  \n",
       "count      5000.000000    5000.000000  \n",
       "mean         14.655000      14.892400  \n",
       "std          40.551987      40.607918  \n",
       "min           0.000000       0.000000  \n",
       "25%           0.000000       0.000000  \n",
       "50%           0.000000       0.000000  \n",
       "75%          12.000000      12.000000  \n",
       "max        1305.000000    1280.000000  "
      ]
     },
     "execution_count": 13,
     "metadata": {},
     "output_type": "execute_result"
    }
   ],
   "source": [
    "sampled_airline_data.loc[:, ['satisfied_customer', 'Flight_Distance', \n",
    "                      'Age', 'Female', \n",
    "                      'Class_Economy', 'Class_Economy_Plus', 'Type_of_Travel_Personal',\n",
    "                      'In-flight_Service', 'Seat_Comfort', 'Leg_Room_Service', 'Food_and_Drink',\n",
    "                      'Departure_Delay', 'Arrival_Delay']].describe()"
   ]
  },
  {
   "cell_type": "markdown",
   "id": "022a994a-96e8-4a13-80e9-f417e5cffd1b",
   "metadata": {},
   "source": [
    "### Distribution plots for key variables"
   ]
  },
  {
   "cell_type": "markdown",
   "id": "e47314c3-124f-41bc-9c43-46a8baa0c2bb",
   "metadata": {
    "tags": []
   },
   "source": [
    "### Distribution of explanatory variable (X)"
   ]
  },
  {
   "cell_type": "code",
   "execution_count": 20,
   "id": "7ee926a6-6952-440c-9a2e-e60fd9285fa3",
   "metadata": {
    "tags": []
   },
   "outputs": [
    {
     "data": {
      "image/png": "[encoded data removed]",
      "text/plain": [
       "<Figure size 640x480 with 1 Axes>"
      ]
     },
     "metadata": {
      "image/png": {
       "height": 480,
       "width": 640
      }
     },
     "output_type": "display_data"
    },
    {
     "data": {
      "text/plain": [
       "<Figure Size: (640 x 480)>"
      ]
     },
     "execution_count": 20,
     "metadata": {},
     "output_type": "execute_result"
    }
   ],
   "source": [
    "plot1 = (\n",
    "    ggplot(sampled_airline_data, aes(x='Flight_Distance')) +\n",
    "    geom_histogram(bins=30, fill=\"blue\", color=\"black\") +\n",
    "    labs(title='Distribution of Flight Distance', x='Flight Distance', y='Count')\n",
    ")\n",
    "\n",
    "plot1"
   ]
  },
  {
   "cell_type": "markdown",
   "id": "f28fc9a1-7d09-4367-9ba9-fe86d4eddd06",
   "metadata": {},
   "source": [
    "#### Distribution of dependent variable \"Age\""
   ]
  },
  {
   "cell_type": "code",
   "execution_count": 22,
   "id": "384cb629-d873-4290-96e8-09863b28fedc",
   "metadata": {
    "tags": []
   },
   "outputs": [
    {
     "data": {
      "image/png": "[encoded data removed]",
      "text/plain": [
       "<Figure size 640x480 with 1 Axes>"
      ]
     },
     "metadata": {
      "image/png": {
       "height": 480,
       "width": 640
      }
     },
     "output_type": "display_data"
    },
    {
     "data": {
      "text/plain": [
       "<Figure Size: (640 x 480)>"
      ]
     },
     "execution_count": 22,
     "metadata": {},
     "output_type": "execute_result"
    }
   ],
   "source": [
    "plot2 = (\n",
    "    ggplot(sampled_airline_data, aes(x='Age')) +\n",
    "    geom_histogram(bins=30, fill=\"blue\", color=\"black\") +\n",
    "    labs(title='Distribution of Age', x='Age', y='Count')\n",
    ")\n",
    "\n",
    "plot2"
   ]
  },
  {
   "cell_type": "markdown",
   "id": "41da76f1-5879-4c0b-a455-a30cddf76021",
   "metadata": {},
   "source": [
    "#### Distribution of dependent variable \"In-flight Service\""
   ]
  },
  {
   "cell_type": "code",
   "execution_count": 26,
   "id": "3b1747c5-d2d0-4286-a933-8efdea214d8a",
   "metadata": {
    "tags": []
   },
   "outputs": [
    {
     "data": {
      "image/png": "[encoded data removed]",
      "text/plain": [
       "<Figure size 640x480 with 1 Axes>"
      ]
     },
     "metadata": {
      "image/png": {
       "height": 480,
       "width": 640
      }
     },
     "output_type": "display_data"
    },
    {
     "data": {
      "text/plain": [
       "<Figure Size: (640 x 480)>"
      ]
     },
     "execution_count": 26,
     "metadata": {},
     "output_type": "execute_result"
    }
   ],
   "source": [
    "plot3 = (\n",
    "    ggplot(sampled_airline_data, aes(x='In-flight_Service')) +\n",
    "    geom_histogram(fill=\"blue\", color=\"black\") +\n",
    "    labs(title='Distribution of In-flight Service', x='Service Rating', y='Count')\n",
    ")\n",
    "\n",
    "plot3"
   ]
  },
  {
   "cell_type": "markdown",
   "id": "b5ff44f1-47c0-4349-a244-81acf042e9a1",
   "metadata": {},
   "source": [
    "#### Distribution of dependent variable \"Departure_Delay\""
   ]
  },
  {
   "cell_type": "code",
   "execution_count": 30,
   "id": "03da9cd5-8b77-4935-ae8c-f8ae600a458b",
   "metadata": {
    "tags": []
   },
   "outputs": [
    {
     "data": {
      "image/png": "[encoded data removed]",
      "text/plain": [
       "<Figure size 640x480 with 1 Axes>"
      ]
     },
     "metadata": {
      "image/png": {
       "height": 480,
       "width": 640
      }
     },
     "output_type": "display_data"
    },
    {
     "data": {
      "text/plain": [
       "<Figure Size: (640 x 480)>"
      ]
     },
     "execution_count": 30,
     "metadata": {},
     "output_type": "execute_result"
    }
   ],
   "source": [
    "plot4 = (\n",
    "    ggplot(sampled_airline_data, aes(x='Departure_Delay')) +\n",
    "    geom_histogram(bins=30, fill=\"blue\", color=\"black\") +\n",
    "    labs(title='Distribution of Departure Delay', x='Departure Delay', y='Count')\n",
    ")\n",
    "\n",
    "plot4"
   ]
  },
  {
   "cell_type": "markdown",
   "id": "8cae66bc-5672-4ab6-814b-6c227c25ed24",
   "metadata": {},
   "source": [
    "## Part 4: Regression"
   ]
  },
  {
   "cell_type": "markdown",
   "id": "40d7689f-3e69-425e-a36b-349531d03bca",
   "metadata": {},
   "source": [
    "As a part of this study I am going to attempt the validate the effect of each group mentioned in \"Part 1\". Based on what I found in the EDA, I am going to take the log of the flight length as it is long right tailed. I am going to use simple linear regresssion, with HC1 covariance to ensure robustness and hetetodasticity."
   ]
  },
  {
   "cell_type": "markdown",
   "id": "bf587297-15b0-4bfb-b808-5fc300d859fc",
   "metadata": {},
   "source": [
    "### Actual Regression"
   ]
  },
  {
   "cell_type": "markdown",
   "id": "155d2b05-89e0-4fab-9896-be29ca7f0176",
   "metadata": {},
   "source": [
    "### Regression models 1,2,3 with explainations"
   ]
  },
  {
   "cell_type": "code",
   "execution_count": null,
   "id": "aa5ad55c-8cb4-4bab-9eae-35ec9a4e3aac",
   "metadata": {
    "tags": []
   },
   "outputs": [],
   "source": [
    "import statsmodels.formula.api as smf\n",
    "\n",
    "# Preparing the formula for the OLS model\n",
    "updated_formula = \"satisfied_customer ~ Q('Flight Distance') + Age + Q('Class_Economy') + Q('Class_Economy Plus') + Q('Type of Travel_Personal') + Q('In-flight Service') + Q('Seat Comfort') + Q('Leg Room Service') + Q('Food and Drink')\"\n",
    "\n",
    "# Fitting the OLS model using the formula\n",
    "model_formula = smf.ols(formula=formula, data=airline_data_dummies).fit(cov_type='HC3')\n",
    "\n",
    "# Summary of the OLS Regression Results\n",
    "model_formula_summary = model_formula.summary()\n",
    "model_formula_summary\n",
    "\n"
   ]
  },
  {
   "cell_type": "markdown",
   "id": "c19afa7f-9cbc-4907-b6f9-2862d231f3d8",
   "metadata": {},
   "source": [
    "## Part 5: Findings, Summary and Limitations"
   ]
  },
  {
   "cell_type": "code",
   "execution_count": null,
   "id": "682e5923-044f-4839-ba94-28c4bd1cc829",
   "metadata": {},
   "outputs": [],
   "source": []
  },
  {
   "cell_type": "code",
   "execution_count": null,
   "id": "b40c8911-b0e3-4f07-b8d7-4b69d49b995f",
   "metadata": {},
   "outputs": [],
   "source": []
  }
 ],
 "metadata": {
  "kernelspec": {
   "display_name": "Python 3 (ipykernel)",
   "language": "python",
   "name": "python3"
  },
  "language_info": {
   "codemirror_mode": {
    "name": "ipython",
    "version": 3
   },
   "file_extension": ".py",
   "mimetype": "text/x-python",
   "name": "python",
   "nbconvert_exporter": "python",
   "pygments_lexer": "ipython3",
   "version": "3.11.4"
  }
 },
 "nbformat": 4,
 "nbformat_minor": 5
}
